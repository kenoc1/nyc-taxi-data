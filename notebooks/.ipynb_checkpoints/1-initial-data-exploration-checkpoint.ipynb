{
 "cells": [
  {
   "cell_type": "code",
   "execution_count": 1,
   "metadata": {
    "pycharm": {
     "name": "#%%\n"
    }
   },
   "outputs": [],
   "source": [
    "import dask.dataframe as dd\n",
    "# using dask here for faster data analysis and preprocessing\n",
    "# similar to pandas\n",
    "# comparison, further references: https://medium.com/featurepreneur/pandas-vs-dask-the-power-of-parallel-computing-994a202a74bd\n",
    "\n",
    "import pandas as pd\n",
    "# still using pandas at some point for smaller dataframes where speed is not so relevant\n",
    "\n",
    "import pyarrow.parquet as pq\n",
    "# pyarrow for reading large parquet file\n",
    "import datetime\n",
    "\n",
    "import time\n",
    "\n",
    "import numpy as np\n",
    "\n",
    "\n",
    "# pip install fastparquet for reading parquet files\n",
    "\n",
    "import os\n",
    "# os for working with different files in one directory and print information about files\n",
    "\n",
    "import warnings\n",
    "# this lib ist helping to ignore some warnings if you load dataframes for example\n",
    "warnings.filterwarnings(\"ignore\")"
   ]
  },
  {
   "cell_type": "code",
   "execution_count": 2,
   "metadata": {
    "pycharm": {
     "name": "#%%\n"
    }
   },
   "outputs": [
    {
     "name": "stdout",
     "output_type": "stream",
     "text": [
      "                          file_name  file_size  number_of_records\n",
      "0   yellow_tripdata_2019-01.parquet  105.32 mb            7696617\n",
      "1   yellow_tripdata_2019-02.parquet   98.57 mb            7049370\n",
      "2   yellow_tripdata_2019-03.parquet  110.64 mb            7866620\n",
      "3   yellow_tripdata_2019-04.parquet  105.04 mb            7475949\n",
      "4   yellow_tripdata_2019-05.parquet  106.31 mb            7598445\n",
      "5   yellow_tripdata_2019-06.parquet   98.14 mb            6971560\n",
      "6   yellow_tripdata_2019-07.parquet   89.53 mb            6310419\n",
      "7   yellow_tripdata_2019-08.parquet   85.83 mb            6073357\n",
      "8   yellow_tripdata_2019-09.parquet   92.61 mb            6567788\n",
      "9   yellow_tripdata_2019-10.parquet  101.37 mb            7213891\n",
      "10  yellow_tripdata_2019-11.parquet    96.2 mb            6878111\n",
      "11  yellow_tripdata_2019-12.parquet   96.36 mb            6896317\n"
     ]
    }
   ],
   "source": [
    "# We Have collected all yellow taxi trips data from jan-2019 to dec-2019\n",
    "# Summary of the 12 files in parquet format\n",
    "df_file_summary = pd.DataFrame()\n",
    "for filename in os.listdir('../data/raw/parquet/'):\n",
    "    if filename.endswith(\".parquet\"):\n",
    "        df_month_data = pq.read_table('../data/raw/parquet/' + os.path.join(filename), columns=[])\n",
    "        size = str(round(os.stat('../data/raw/parquet/' + os.path.join(filename)).st_size / 1024 / 1024, 2)) + ' mb'\n",
    "        new_row = {\n",
    "            'file_name': filename,\n",
    "            'file_size': size,\n",
    "            'number_of_records': df_month_data.num_rows,\n",
    "        }\n",
    "        df_file_summary = df_file_summary.append(new_row, ignore_index=True)\n",
    "print(df_file_summary)"
   ]
  },
  {
   "cell_type": "code",
   "execution_count": null,
   "metadata": {
    "pycharm": {
     "is_executing": true,
     "name": "#%%\n"
    }
   },
   "outputs": [],
   "source": [
    "# For data preparation we need to look at the different features\n",
    "# therefore we are looking at one month first to get some insights about the data\n",
    "# we convert the parquet file into a csv file\n",
    "df = pd.read_parquet('../data/raw/parquet/' + os.path.join('yellow_tripdata_2019-01.parquet'))\n",
    "df.to_csv('../data/raw/csv/' + 'yellow_tripdata_2019-01' + '.csv', index=False)"
   ]
  },
  {
   "cell_type": "code",
   "execution_count": null,
   "metadata": {
    "pycharm": {
     "is_executing": true,
     "name": "#%%\n"
    }
   },
   "outputs": [],
   "source": [
    "# we start by printing out the columns\n",
    "month = dd.read_csv('../data/raw/csv/yellow_tripdata_2019-01.csv')\n",
    "print(month.columns)"
   ]
  },
  {
   "cell_type": "code",
   "execution_count": null,
   "metadata": {
    "pycharm": {
     "is_executing": true,
     "name": "#%%\n"
    }
   },
   "outputs": [],
   "source": [
    "month.head(5)"
   ]
  },
  {
   "cell_type": "code",
   "execution_count": null,
   "metadata": {
    "pycharm": {
     "is_executing": true,
     "name": "#%%\n"
    }
   },
   "outputs": [],
   "source": [
    "# to filter for specific rows we need to add some values to the dataframe\n",
    "def convert_to_unix(s):\n",
    "    return time.mktime(datetime.datetime.strptime(s, '%Y-%m-%d %H:%M:%S').timetuple())\n",
    "\n",
    "\n",
    "def return_with_trip_times(month):\n",
    "    duration = month[['tpep_pickup_datetime','tpep_dropoff_datetime']].compute()\n",
    "    #pickups and dropoffs to unix time\n",
    "    duration_pickup = [time.mktime(datetime.datetime.strptime(x, '%Y-%m-%d %H:%M:%S').timetuple()) for x in duration['tpep_pickup_datetime'].values]\n",
    "    duration_drop = [time.mktime(datetime.datetime.strptime(x, '%Y-%m-%d %H:%M:%S').timetuple()) for x in duration['tpep_dropoff_datetime'].values]\n",
    "    #calculate duration of trips\n",
    "    durations = (np.array(duration_drop) - np.array(duration_pickup))/float(60)\n",
    "\n",
    "    #append durations of trips and speed in miles/hr to a new dataframe\n",
    "    new_frame = month.compute()\n",
    "\n",
    "    new_frame['trip_times (min)'] = durations\n",
    "    new_frame['pickup_times (unix)'] = duration_pickup\n",
    "    new_frame['Speed (mph)'] = 60*(new_frame['trip_distance']/new_frame['trip_times (min)'])\n",
    "\n",
    "    return new_frame\n",
    "\n",
    "frame_with_durations = return_with_trip_times(month)\n",
    "frame_with_durations.head(10)"
   ]
  },
  {
   "cell_type": "code",
   "execution_count": null,
   "metadata": {
    "pycharm": {
     "is_executing": true,
     "name": "#%%\n"
    }
   },
   "outputs": [],
   "source": [
    "frame_with_durations.to_csv('../data/interim/yellow_tripdata_2019-01_durations.csv', index=False)"
   ]
  },
  {
   "cell_type": "code",
   "execution_count": null,
   "metadata": {
    "pycharm": {
     "is_executing": true,
     "name": "#%%\n"
    }
   },
   "outputs": [],
   "source": [
    "# next we look at our features to find outliers and values we want to sort out\n",
    "# First we look at the speed"
   ]
  }
 ],
 "metadata": {
  "kernelspec": {
   "display_name": "Python 3 (ipykernel)",
   "language": "python",
   "name": "python3"
  },
  "language_info": {
   "codemirror_mode": {
    "name": "ipython",
    "version": 3
   },
   "file_extension": ".py",
   "mimetype": "text/x-python",
   "name": "python",
   "nbconvert_exporter": "python",
   "pygments_lexer": "ipython3",
   "version": "3.10.4"
  }
 },
 "nbformat": 4,
 "nbformat_minor": 1
}
