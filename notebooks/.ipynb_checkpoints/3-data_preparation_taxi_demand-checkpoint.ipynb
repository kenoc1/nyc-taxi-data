{
 "cells": [
  {
   "cell_type": "code",
   "execution_count": 2,
   "metadata": {
    "pycharm": {
     "name": "#%%\n"
    }
   },
   "outputs": [],
   "source": [
    "import dask.dataframe as dd\n",
    "# using dask here for faster data analysis and preprocessing\n",
    "# similar to pandas\n",
    "# comparison, further references: https://medium.com/featurepreneur/pandas-vs-dask-the-power-of-parallel-computing-994a202a74bd\n",
    "\n",
    "import pandas as pd\n",
    "# still using pandas at some point for smaller dataframes where speed is not so relevant\n",
    "\n",
    "import pyarrow.parquet as pq\n",
    "# pyarrow for reading large parquet file\n",
    "import datetime\n",
    "\n",
    "import time\n",
    "\n",
    "import numpy as np\n",
    "\n",
    "\n",
    "# pip install fastparquet for reading parquet files\n",
    "\n",
    "import os\n",
    "# os for working with different files in one directory and print information about files\n",
    "\n",
    "import warnings\n",
    "# this lib ist helping to ignore some warnings if you load dataframes for example\n",
    "warnings.filterwarnings(\"ignore\")"
   ]
  },
  {
   "cell_type": "code",
   "execution_count": null,
   "metadata": {},
   "outputs": [],
   "source": [
    "# to predict the taxi demand in this example we will work with only 3 month from Jan To Mar 2019\n",
    "# it is possible to add more month of course but this would have taken more time\n",
    "# first we are having a look at our month grouped by our 255 regions\n",
    "\n",
    "jan_2019 = pd.read_csv('../data/interim/cleaned_csv/yellow_tripdata_2019-01.csv')\n",
    "feb_2019 = pd.read_csv('../data/interim/cleaned_csv/yellow_tripdata_2019-02.csv')\n",
    "mar_2019 = pd.read_csv('../data/interim/cleaned_csv/yellow_tripdata_2019-03.csv')\n",
    "\n",
    "jan_2019 = jan_2019.drop('Unnamed: 0', axis=1)\n",
    "feb_2019 = feb_2019.drop('Unnamed: 0', axis=1)\n",
    "mar_2019 = mar_2019.drop('Unnamed: 0', axis=1)\n",
    "\n",
    "jan_2019.columns"
   ]
  },
  {
   "cell_type": "code",
   "execution_count": 10,
   "metadata": {},
   "outputs": [],
   "source": [
    "grouped = jan_2019.groupby(['PULocationID']).size()"
   ]
  },
  {
   "cell_type": "code",
   "execution_count": 12,
   "metadata": {},
   "outputs": [
    {
     "ename": "AttributeError",
     "evalue": "'Series' object has no attribute 'columns'",
     "output_type": "error",
     "traceback": [
      "\u001b[1;31m---------------------------------------------------------------------------\u001b[0m",
      "\u001b[1;31mAttributeError\u001b[0m                            Traceback (most recent call last)",
      "Input \u001b[1;32mIn [12]\u001b[0m, in \u001b[0;36m<cell line: 1>\u001b[1;34m()\u001b[0m\n\u001b[1;32m----> 1\u001b[0m \u001b[43mgrouped\u001b[49m\u001b[38;5;241;43m.\u001b[39;49m\u001b[43mcolumns\u001b[49m\n",
      "\u001b[1;31mAttributeError\u001b[0m: 'Series' object has no attribute 'columns'"
     ]
    }
   ],
   "source": [
    "grouped.columns"
   ]
  },
  {
   "cell_type": "code",
   "execution_count": null,
   "metadata": {},
   "outputs": [],
   "source": []
  }
 ],
 "metadata": {
  "kernelspec": {
   "display_name": "Python 3 (ipykernel)",
   "language": "python",
   "name": "python3"
  },
  "language_info": {
   "codemirror_mode": {
    "name": "ipython",
    "version": 3
   },
   "file_extension": ".py",
   "mimetype": "text/x-python",
   "name": "python",
   "nbconvert_exporter": "python",
   "pygments_lexer": "ipython3",
   "version": "3.10.4"
  }
 },
 "nbformat": 4,
 "nbformat_minor": 1
}
