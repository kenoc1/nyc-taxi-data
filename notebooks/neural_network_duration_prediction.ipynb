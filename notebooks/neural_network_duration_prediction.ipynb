{
 "cells": [
  {
   "cell_type": "markdown",
   "metadata": {},
   "source": [
    "# Neuronales Netz zur Vorhersage von Fahrtzeiten"
   ]
  },
  {
   "cell_type": "markdown",
   "metadata": {},
   "source": [
    "Importiert die benötigten Module und ließt csv ein"
   ]
  },
  {
   "cell_type": "code",
   "execution_count": null,
   "metadata": {},
   "outputs": [],
   "source": [
    "import pandas as pd\n",
    "import numpy as np\n",
    "import matplotlib.pyplot as plt\n",
    "import seaborn as sn\n",
    "import tensorflow as tf\n",
    "from tensorflow import keras\n",
    "import time\n",
    "from datetime import datetime\n",
    "from tensorflow.keras.models import Sequential\n",
    "from tensorflow.keras.layers import Activation, Dense, Flatten, Dropout\n",
    "from tensorflow.keras.optimizers import Adam\n",
    "from tensorflow.keras.metrics import categorical_crossentropy\n",
    "from sklearn.preprocessing import MinMaxScaler\n",
    "\n",
    "train_x = pd.read_csv(\"../data/taxi_data/yellow_tripdata_2020-04.csv\")\n",
    "train_x"
   ]
  },
  {
   "cell_type": "markdown",
   "metadata": {},
   "source": [
    "Presproccessing der eingelsenen csv"
   ]
  },
  {
   "cell_type": "code",
   "execution_count": 175,
   "metadata": {
    "pycharm": {
     "name": "#%%\n"
    }
   },
   "outputs": [
    {
     "name": "stdout",
     "output_type": "stream",
     "text": [
      "        VendorID  tpep_pickup_datetime  tpep_dropoff_datetime  \\\n",
      "0              1              20200401               20200401   \n",
      "1              1              20200401               20200401   \n",
      "2              1              20200401               20200401   \n",
      "3              1              20200401               20200401   \n",
      "4              2              20200401               20200401   \n",
      "...          ...                   ...                    ...   \n",
      "238068         2              20200430               20200430   \n",
      "238069         2              20200430               20200430   \n",
      "238070         2              20200430               20200430   \n",
      "238071         2              20200430               20200501   \n",
      "238072         2              20200430               20200430   \n",
      "\n",
      "        passenger_count  trip_distance  RatecodeID  PULocationID  \\\n",
      "0                   1.0           1.20         1.0            41   \n",
      "1                   1.0           3.40         1.0            95   \n",
      "2                   1.0           2.80         1.0           237   \n",
      "3                   0.0           2.60         1.0            68   \n",
      "4                   1.0           1.44         1.0           263   \n",
      "...                 ...            ...         ...           ...   \n",
      "238068              0.0           2.02         0.0           238   \n",
      "238069              0.0           3.30         0.0           263   \n",
      "238070              0.0           6.40         0.0           137   \n",
      "238071              0.0          25.70         0.0            29   \n",
      "238072              0.0           5.63         0.0            14   \n",
      "\n",
      "        DOLocationID  payment_type  fare_amount  ...  airport_fee  \\\n",
      "0                 24             2         5.50  ...          0.0   \n",
      "1                197             1        12.50  ...          0.0   \n",
      "2                137             1        10.00  ...          0.0   \n",
      "3                142             1        10.00  ...          0.0   \n",
      "4                 74             1         6.50  ...          0.0   \n",
      "...              ...           ...          ...  ...          ...   \n",
      "238068            75             0         8.46  ...          0.0   \n",
      "238069           230             0        13.46  ...          0.0   \n",
      "238070            42             0        22.05  ...          0.0   \n",
      "238071            69             0        68.16  ...          0.0   \n",
      "238072            29             0        17.48  ...          0.0   \n",
      "\n",
      "        trip_duration  tpep_pickup_month  tpep_dropoff_month  \\\n",
      "0                1231                  4                   4   \n",
      "1                 805                  4                   4   \n",
      "2                 539                  4                   4   \n",
      "3                 600                  4                   4   \n",
      "4                 302                  4                   4   \n",
      "...               ...                ...                 ...   \n",
      "238068            540                  4                   4   \n",
      "238069            600                  4                   4   \n",
      "238070            780                  4                   4   \n",
      "238071           2275                  4                   5   \n",
      "238072            861                  4                   4   \n",
      "\n",
      "        tpep_pickup_day_numeric  tpep_dropoff_day_numeric  tpep_pickup_hour  \\\n",
      "0                             1                         1                 0   \n",
      "1                             1                         1                 0   \n",
      "2                             1                         1                 0   \n",
      "3                             1                         1                 0   \n",
      "4                             1                         1                 0   \n",
      "...                         ...                       ...               ...   \n",
      "238068                       30                        30                23   \n",
      "238069                       30                        30                23   \n",
      "238070                       30                        30                23   \n",
      "238071                       30                         1                23   \n",
      "238072                       30                        30                23   \n",
      "\n",
      "        tpep_dropoff_hour  tpep_pickup_day  tpep_dropoff_day  \n",
      "0                       1                3                 3  \n",
      "1                       1                3                 3  \n",
      "2                       0                3                 3  \n",
      "3                       0                3                 3  \n",
      "4                       0                3                 3  \n",
      "...                   ...              ...               ...  \n",
      "238068                 23                4                 4  \n",
      "238069                 23                4                 4  \n",
      "238070                 23                4                 4  \n",
      "238071                  0                4                 5  \n",
      "238072                 23                4                 4  \n",
      "\n",
      "[238073 rows x 27 columns]\n"
     ]
    }
   ],
   "source": [
    "train_x['tpep_pickup_datetime'] = pd.to_datetime(train_x['tpep_pickup_datetime'], format='%Y-%m-%d %H:%M:%S')\n",
    "train_x['tpep_dropoff_datetime'] = pd.to_datetime(train_x['tpep_dropoff_datetime'], format='%Y-%m-%d %H:%M:%S')\n",
    "train_x['trip_duration'] = (train_x['tpep_dropoff_datetime'] - train_x['tpep_pickup_datetime']).dt.seconds\n",
    "train_x['PULocationID'].fillna(-1, inplace=True)\n",
    "train_x['DOLocationID'].fillna(-1, inplace=True)\n",
    "train_x['tpep_pickup_month'] = train_x['tpep_pickup_datetime'].dt.month\n",
    "train_x['tpep_dropoff_month'] = train_x['tpep_dropoff_datetime'].dt.month\n",
    "train_x['tpep_pickup_day_numeric'] = train_x['tpep_pickup_datetime'].dt.day\n",
    "train_x['tpep_dropoff_day_numeric'] = train_x['tpep_dropoff_datetime'].dt.day\n",
    "train_x['tpep_pickup_day_name'] = train_x['tpep_pickup_datetime'].dt.day_name()\n",
    "train_x['tpep_dropoff_day_name'] = train_x['tpep_dropoff_datetime'].dt.day_name()\n",
    "train_x['tpep_pickup_hour'] = train_x['tpep_pickup_datetime'].dt.hour\n",
    "train_x['tpep_dropoff_hour'] = train_x['tpep_dropoff_datetime'].dt.hour\n",
    "train_x['tpep_pickup_day'] = train_x['tpep_pickup_datetime'].dt.strftime(\"%w\").astype(int)\n",
    "train_x['tpep_dropoff_day'] = train_x['tpep_dropoff_datetime'].dt.strftime(\"%w\").astype(int)\n",
    "train_y = (train_x['tpep_dropoff_datetime'] - train_x['tpep_pickup_datetime']).dt.seconds\n",
    "train_x['tpep_pickup_datetime'] = train_x['tpep_pickup_datetime'].apply(lambda x: int(x.strftime('%Y%m%d')))\n",
    "train_x['tpep_dropoff_datetime'] = train_x['tpep_dropoff_datetime'].apply(lambda x: int(x.strftime('%Y%m%d')))\n",
    "train_x = train_x.fillna(0)\n",
    "train_x = train_x.drop([\"tpep_dropoff_day_name\"], axis=1)\n",
    "train_x = train_x.drop([\"tpep_pickup_day_name\"], axis=1)\n",
    "train_x = train_x.drop([\"store_and_fwd_flag\"], axis=1)\n",
    "\n",
    "print(train_x)"
   ]
  },
  {
   "cell_type": "markdown",
   "metadata": {},
   "source": [
    "Normalisierung der Daten, sowie Teilung in Labels- und Traingsdaten"
   ]
  },
  {
   "cell_type": "code",
   "execution_count": 176,
   "metadata": {
    "pycharm": {
     "name": "#%%\n"
    }
   },
   "outputs": [
    {
     "name": "stdout",
     "output_type": "stream",
     "text": [
      "        PULocationID  DOLocationID  tpep_pickup_month  tpep_pickup_day  \\\n",
      "0           0.151515      0.087121                1.0         0.500000   \n",
      "1           0.356061      0.742424                1.0         0.500000   \n",
      "2           0.893939      0.515152                1.0         0.500000   \n",
      "3           0.253788      0.534091                1.0         0.500000   \n",
      "4           0.992424      0.276515                1.0         0.500000   \n",
      "...              ...           ...                ...              ...   \n",
      "238068      0.897727      0.280303                1.0         0.666667   \n",
      "238069      0.992424      0.867424                1.0         0.666667   \n",
      "238070      0.515152      0.155303                1.0         0.666667   \n",
      "238071      0.106061      0.257576                1.0         0.666667   \n",
      "238072      0.049242      0.106061                1.0         0.666667   \n",
      "\n",
      "        tpep_pickup_hour  \n",
      "0                    0.0  \n",
      "1                    0.0  \n",
      "2                    0.0  \n",
      "3                    0.0  \n",
      "4                    0.0  \n",
      "...                  ...  \n",
      "238068               1.0  \n",
      "238069               1.0  \n",
      "238070               1.0  \n",
      "238071               1.0  \n",
      "238072               1.0  \n",
      "\n",
      "[238073 rows x 5 columns]\n",
      "---\n",
      "[0.01424785 0.00931724 0.0062385  ... 0.00902788 0.02633132 0.00996539]\n"
     ]
    }
   ],
   "source": [
    "columns = ['PULocationID', 'DOLocationID', 'tpep_pickup_month', 'tpep_pickup_day', 'tpep_pickup_hour', 'trip_duration']\n",
    "# define min max scaler\n",
    "train_data_scaler = MinMaxScaler()\n",
    "train_x[columns] = train_data_scaler.fit_transform(train_x[columns])\n",
    "\n",
    "y_train_labels = train_x[\"trip_duration\"].values\n",
    "x_train_samples = train_x[columns]\n",
    "x_train_samples = x_train_samples.drop([\"trip_duration\"], axis=1)\n",
    "\n",
    "print(x_train_samples)\n",
    "print(\"---\")\n",
    "print(y_train_labels)\n",
    "\n"
   ]
  },
  {
   "cell_type": "markdown",
   "metadata": {},
   "source": [
    "Konvertieren der Dataframes in Arrays"
   ]
  },
  {
   "cell_type": "code",
   "execution_count": 177,
   "metadata": {
    "pycharm": {
     "name": "#%%\n"
    }
   },
   "outputs": [
    {
     "name": "stdout",
     "output_type": "stream",
     "text": [
      "[0.01424785 0.00931724 0.0062385  ... 0.00902788 0.02633132 0.00996539]\n"
     ]
    }
   ],
   "source": [
    "x_train_samples = np.array(x_train_samples)\n",
    "y_train_labels = np.array(y_train_labels)\n",
    "print(y_train_labels)"
   ]
  },
  {
   "cell_type": "markdown",
   "metadata": {},
   "source": [
    "Erstellen eines Modells für Regression"
   ]
  },
  {
   "cell_type": "code",
   "execution_count": 178,
   "metadata": {
    "pycharm": {
     "name": "#%%\n"
    }
   },
   "outputs": [
    {
     "name": "stdout",
     "output_type": "stream",
     "text": [
      "Model: \"sequential_13\"\n",
      "_________________________________________________________________\n",
      " Layer (type)                Output Shape              Param #   \n",
      "=================================================================\n",
      " dense_52 (Dense)            (None, 5, 32)             64        \n",
      "                                                                 \n",
      " dense_53 (Dense)            (None, 5, 32)             1056      \n",
      "                                                                 \n",
      " dense_54 (Dense)            (None, 5, 32)             1056      \n",
      "                                                                 \n",
      " flatten_5 (Flatten)         (None, 160)               0         \n",
      "                                                                 \n",
      " dense_55 (Dense)            (None, 1)                 161       \n",
      "                                                                 \n",
      "=================================================================\n",
      "Total params: 2,337\n",
      "Trainable params: 2,337\n",
      "Non-trainable params: 0\n",
      "_________________________________________________________________\n",
      "Epoch 1/10\n",
      "215/215 - 1s - loss: 9.9721e-04 - mean_squared_error: 9.9721e-04 - val_loss: 0.0016 - val_mean_squared_error: 0.0016 - 1s/epoch - 6ms/step\n",
      "Epoch 2/10\n",
      "215/215 - 1s - loss: 9.7548e-04 - mean_squared_error: 9.7548e-04 - val_loss: 0.0016 - val_mean_squared_error: 0.0016 - 633ms/epoch - 3ms/step\n",
      "Epoch 3/10\n",
      "215/215 - 1s - loss: 9.7454e-04 - mean_squared_error: 9.7454e-04 - val_loss: 0.0015 - val_mean_squared_error: 0.0015 - 606ms/epoch - 3ms/step\n",
      "Epoch 4/10\n",
      "215/215 - 1s - loss: 9.7509e-04 - mean_squared_error: 9.7509e-04 - val_loss: 0.0015 - val_mean_squared_error: 0.0015 - 590ms/epoch - 3ms/step\n",
      "Epoch 5/10\n",
      "215/215 - 1s - loss: 9.7515e-04 - mean_squared_error: 9.7515e-04 - val_loss: 0.0016 - val_mean_squared_error: 0.0016 - 608ms/epoch - 3ms/step\n",
      "Epoch 6/10\n",
      "215/215 - 1s - loss: 9.7466e-04 - mean_squared_error: 9.7466e-04 - val_loss: 0.0016 - val_mean_squared_error: 0.0016 - 607ms/epoch - 3ms/step\n",
      "Epoch 7/10\n",
      "215/215 - 1s - loss: 9.7487e-04 - mean_squared_error: 9.7487e-04 - val_loss: 0.0016 - val_mean_squared_error: 0.0016 - 655ms/epoch - 3ms/step\n",
      "Epoch 8/10\n",
      "215/215 - 1s - loss: 9.7424e-04 - mean_squared_error: 9.7424e-04 - val_loss: 0.0016 - val_mean_squared_error: 0.0016 - 659ms/epoch - 3ms/step\n",
      "Epoch 9/10\n",
      "215/215 - 1s - loss: 9.7446e-04 - mean_squared_error: 9.7446e-04 - val_loss: 0.0016 - val_mean_squared_error: 0.0016 - 599ms/epoch - 3ms/step\n",
      "Epoch 10/10\n",
      "215/215 - 1s - loss: 9.7407e-04 - mean_squared_error: 9.7407e-04 - val_loss: 0.0016 - val_mean_squared_error: 0.0016 - 596ms/epoch - 3ms/step\n"
     ]
    },
    {
     "data": {
      "text/plain": [
       "<keras.callbacks.History at 0x25c96371790>"
      ]
     },
     "execution_count": 178,
     "metadata": {},
     "output_type": "execute_result"
    }
   ],
   "source": [
    "model = Sequential([\n",
    "    Dense(units=32, input_shape=(5, 1), activation='relu'),\n",
    "    Dense(units=32, activation='relu'),\n",
    "    Dense(units=32, activation='relu'),\n",
    "    Flatten(),\n",
    "    Dense(units=1)\n",
    "])\n",
    "model.summary()\n",
    "\n",
    "model.compile(optimizer=Adam(learning_rate=0.001), loss='mean_squared_error', metrics=['mean_squared_error'])\n",
    "model.fit(x=x_train_samples, y=y_train_labels, validation_split=0.1, batch_size=1000, epochs=10, shuffle=True,\n",
    "          verbose=2)\n",
    "\n",
    "\n"
   ]
  },
  {
   "cell_type": "markdown",
   "metadata": {
    "pycharm": {
     "name": "#%%\n"
    }
   },
   "source": [
    "Einlesen einer weiteren csv für den Folgemonat um vorhersagen machen zu können. Zudem preprocessing der Daten\n"
   ]
  },
  {
   "cell_type": "code",
   "execution_count": 214,
   "metadata": {},
   "outputs": [],
   "source": [
    "test_data = pd.read_csv(\"../data/taxi_data/yellow_tripdata_2020-04.csv\", nrows=3)\n",
    "test_data['tpep_pickup_datetime'] = pd.to_datetime(test_data['tpep_pickup_datetime'], format='%Y-%m-%d %H:%M:%S')\n",
    "test_data['tpep_dropoff_datetime'] = pd.to_datetime(test_data['tpep_dropoff_datetime'], format='%Y-%m-%d %H:%M:%S')\n",
    "test_data['trip_duration'] = (test_data['tpep_dropoff_datetime'] - test_data['tpep_pickup_datetime']).dt.seconds\n",
    "test_data['PULocationID'].fillna(-1, inplace=True)\n",
    "test_data['DOLocationID'].fillna(-1, inplace=True)\n",
    "test_data['tpep_pickup_month'] = test_data['tpep_pickup_datetime'].dt.month\n",
    "test_data['tpep_dropoff_month'] = test_data['tpep_dropoff_datetime'].dt.month\n",
    "test_data['tpep_pickup_day_numeric'] = test_data['tpep_pickup_datetime'].dt.day\n",
    "test_data['tpep_dropoff_day_numeric'] = test_data['tpep_dropoff_datetime'].dt.day\n",
    "test_data['tpep_pickup_day_name'] = test_data['tpep_pickup_datetime'].dt.day_name()\n",
    "test_data['tpep_dropoff_day_name'] = test_data['tpep_dropoff_datetime'].dt.day_name()\n",
    "test_data['tpep_pickup_hour'] = test_data['tpep_pickup_datetime'].dt.hour\n",
    "test_data['tpep_dropoff_hour'] = test_data['tpep_dropoff_datetime'].dt.hour\n",
    "test_data['tpep_pickup_day'] = test_data['tpep_pickup_datetime'].dt.strftime(\"%w\").astype(int)\n",
    "test_data['tpep_dropoff_day'] = test_data['tpep_dropoff_datetime'].dt.strftime(\"%w\").astype(int)\n",
    "test_data['tpep_pickup_datetime'] = test_data['tpep_pickup_datetime'].apply(lambda x: int(x.strftime('%Y%m%d')))\n",
    "test_data['tpep_dropoff_datetime'] = test_data['tpep_dropoff_datetime'].apply(lambda x: int(x.strftime('%Y%m%d')))\n",
    "test_data = test_data.fillna(0)\n",
    "test_data = test_data.drop([\"tpep_dropoff_day_name\"], axis=1)\n",
    "test_data = test_data.drop([\"tpep_pickup_day_name\"], axis=1)\n",
    "test_data = test_data.drop([\"store_and_fwd_flag\"], axis=1)\n",
    "\n",
    "\n"
   ]
  },
  {
   "cell_type": "markdown",
   "metadata": {},
   "source": [
    "Normalisierung der Testdaten "
   ]
  },
  {
   "cell_type": "code",
   "execution_count": 215,
   "metadata": {
    "pycharm": {
     "name": "#%%\n"
    }
   },
   "outputs": [],
   "source": [
    "columns = ['PULocationID', 'DOLocationID', 'tpep_pickup_month', 'tpep_pickup_day', 'tpep_pickup_hour', 'trip_duration']\n",
    "#make decisons based on csv input files\n",
    "real_duration = test_data['trip_duration']\n",
    "test_data[columns] = train_data_scaler.fit_transform(test_data[columns])\n",
    "\n",
    "test_labels = test_data[\"trip_duration\"].values\n",
    "test_samples = test_data.drop([\"trip_duration\"], axis=1)\n",
    "\n",
    "y_train_labels = train_x[\"trip_duration\"].values\n",
    "test_data_samples = test_data[columns]\n",
    "test_data_samples = test_data_samples.drop([\"trip_duration\"], axis=1)\n",
    "\n",
    "\n",
    "#make single custom predictions\n",
    "# data = {'PULocationID': [95], 'DOLocationID': [197], 'tpep_pickup_month': [5], 'tpep_pickup_day': [3],\n",
    "#         'tpep_pickup_hour': [0], 'trip_duration': [805]}\n",
    "# custom_test_data = pd.DataFrame(data=data)\n",
    "# real_duration = custom_test_data['trip_duration']\n",
    "#\n",
    "# print(custom_test_data)\n",
    "# custom_test_data[columns] = train_data_scaler.fit_transform(custom_test_data[columns])\n",
    "# test_labels = custom_test_data[\"trip_duration\"].values\n",
    "# test_data_samples = custom_test_data[columns]\n",
    "# test_data_samples = test_data_samples.drop([\"trip_duration\"], axis=1)\n"
   ]
  },
  {
   "cell_type": "code",
   "execution_count": 216,
   "metadata": {
    "pycharm": {
     "name": "#%%\n"
    }
   },
   "outputs": [
    {
     "name": "stdout",
     "output_type": "stream",
     "text": [
      "(3, 5)\n",
      "1/1 [==============================] - 0s 19ms/step\n",
      "(3, 1)\n"
     ]
    }
   ],
   "source": [
    "predictions = model.predict(test_data_samples)"
   ]
  },
  {
   "cell_type": "code",
   "execution_count": 217,
   "metadata": {
    "pycharm": {
     "name": "#%%\n"
    }
   },
   "outputs": [
    {
     "name": "stdout",
     "output_type": "stream",
     "text": [
      "   PULocationID  DOLocationID  tpep_pickup_month  tpep_pickup_day  \\\n",
      "0          41.0          24.0                4.0              3.0   \n",
      "1          95.0         197.0                4.0              3.0   \n",
      "2         237.0         137.0                4.0              3.0   \n",
      "\n",
      "   tpep_pickup_hour  predicted_trip_duration  real_duration  \n",
      "0               0.0               551.972751           1231  \n",
      "1               0.0               548.130482            805  \n",
      "2               0.0               547.354790            539  \n"
     ]
    }
   ],
   "source": [
    "test_data_samples['trip_duration'] = predictions.flatten()\n",
    "test_data_inversed = train_data_scaler.inverse_transform(test_data_samples)\n",
    "column_values = ['PULocationID', 'DOLocationID', 'tpep_pickup_month', 'tpep_pickup_day', 'tpep_pickup_hour',\n",
    "                 'predicted_trip_duration']\n",
    "\n",
    "result = pd.DataFrame(data=test_data_inversed, columns=column_values)\n",
    "result['real_duration'] = real_duration\n",
    "print(result)\n"
   ]
  },
  {
   "cell_type": "code",
   "execution_count": 197,
   "metadata": {
    "pycharm": {
     "name": "#%%\n"
    }
   },
   "outputs": [
    {
     "ename": "IndexError",
     "evalue": "index 5 is out of bounds for axis 0 with size 2",
     "output_type": "error",
     "traceback": [
      "\u001B[1;31m---------------------------------------------------------------------------\u001B[0m",
      "\u001B[1;31mIndexError\u001B[0m                                Traceback (most recent call last)",
      "Input \u001B[1;32mIn [197]\u001B[0m, in \u001B[0;36m<cell line: 1>\u001B[1;34m()\u001B[0m\n\u001B[1;32m----> 1\u001B[0m \u001B[38;5;28mprint\u001B[39m(\u001B[43mtest_data_inversed\u001B[49m\u001B[43m[\u001B[49m\u001B[38;5;241;43m5\u001B[39;49m\u001B[43m]\u001B[49m)\n\u001B[0;32m      2\u001B[0m \u001B[38;5;28mprint\u001B[39m(real_duration)\n\u001B[0;32m      4\u001B[0m plt\u001B[38;5;241m.\u001B[39mplot(real_duration, color\u001B[38;5;241m=\u001B[39m\u001B[38;5;124m'\u001B[39m\u001B[38;5;124mred\u001B[39m\u001B[38;5;124m'\u001B[39m, label\u001B[38;5;241m=\u001B[39m\u001B[38;5;124m'\u001B[39m\u001B[38;5;124mReal data\u001B[39m\u001B[38;5;124m'\u001B[39m)\n",
      "\u001B[1;31mIndexError\u001B[0m: index 5 is out of bounds for axis 0 with size 2"
     ]
    }
   ],
   "source": [
    "print(test_data_inversed[5])\n",
    "print(real_duration)\n",
    "\n",
    "plt.plot(real_duration, color='red', label='Real data')\n",
    "plt.plot(test_data_inversed[5], color='blue', label='Predicted data')\n",
    "plt.title('Prediction')\n",
    "plt.legend()\n",
    "plt.show()"
   ]
  },
  {
   "cell_type": "code",
   "execution_count": 184,
   "metadata": {
    "pycharm": {
     "name": "#%%\n"
    }
   },
   "outputs": [],
   "source": []
  }
 ],
 "metadata": {
  "kernelspec": {
   "display_name": "Python 3 (ipykernel)",
   "language": "python",
   "name": "python3"
  },
  "language_info": {
   "codemirror_mode": {
    "name": "ipython",
    "version": 3
   },
   "file_extension": ".py",
   "mimetype": "text/x-python",
   "name": "python",
   "nbconvert_exporter": "python",
   "pygments_lexer": "ipython3",
   "version": "3.9.5"
  }
 },
 "nbformat": 4,
 "nbformat_minor": 1
}