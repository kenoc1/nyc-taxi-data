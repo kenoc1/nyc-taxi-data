{
 "cells": [
  {
   "cell_type": "markdown",
   "source": [
    "# Vorhersage der Nachfrage von Taxis zu einem bestimmten Zeitpunkt\n",
    "Aus Sicht eines Taxiunternehmens ist es auch relevant wie viele Taxifahrten generell nachgefragt werden.\n",
    "Dafür soll dieses Notebook einen kleinen Einblick geben über die Nachfrage nach Taxifahrten zu einem bestimmten Zeitpunkt"
   ],
   "metadata": {
    "collapsed": false,
    "pycharm": {
     "name": "#%% md\n"
    }
   }
  },
  {
   "cell_type": "code",
   "execution_count": 1,
   "outputs": [],
   "source": [
    "import pandas as pd\n",
    "import dask.dataframe as dd\n",
    "import os\n",
    "from datetime import datetime\n",
    "import warnings\n",
    "# diese Lib hilft, einige Warnungen zu ignorieren, wenn man z.B. Dataframes lädt\n",
    "warnings.filterwarnings(\"ignore\")\n",
    "from sklearn.preprocessing import MinMaxScaler\n",
    "from sklearn.model_selection import train_test_split\n",
    "import numpy as np\n",
    "from sklearn.linear_model import LinearRegression\n",
    "from sklearn.ensemble import RandomForestRegressor\n",
    "from sklearn.metrics import mean_squared_error\n",
    "import lightgbm as lgb\n",
    "from matplotlib import pyplot as plt"
   ],
   "metadata": {
    "collapsed": false,
    "pycharm": {
     "name": "#%%\n"
    }
   }
  },
  {
   "cell_type": "markdown",
   "source": [
    "Zunächst wollen wir unsere kompletten Datensätze durchlaufen und für jede Stunde im Jahr aggregiert vorhersagen, wie viele Taxis benötigt werden"
   ],
   "metadata": {
    "collapsed": false,
    "pycharm": {
     "name": "#%% md\n"
    }
   }
  },
  {
   "cell_type": "code",
   "execution_count": 2,
   "outputs": [
    {
     "name": "stdout",
     "output_type": "stream",
     "text": [
      "Starting with the file:yellow_tripdata_2019-01.csv\n",
      "Starting with the file:yellow_tripdata_2019-02.csv\n",
      "Starting with the file:yellow_tripdata_2019-03.csv\n",
      "Starting with the file:yellow_tripdata_2019-04.csv\n",
      "Starting with the file:yellow_tripdata_2019-05.csv\n",
      "Starting with the file:yellow_tripdata_2019-06.csv\n",
      "Starting with the file:yellow_tripdata_2019-07.csv\n",
      "Starting with the file:yellow_tripdata_2019-08.csv\n",
      "Starting with the file:yellow_tripdata_2019-09.csv\n",
      "Starting with the file:yellow_tripdata_2019-10.csv\n",
      "Starting with the file:yellow_tripdata_2019-11.csv\n",
      "Starting with the file:yellow_tripdata_2019-12.csv\n"
     ]
    }
   ],
   "source": [
    "import calendar\n",
    "\n",
    "bins = pd.DataFrame()\n",
    "# start_date = datetime.datetime(2020, 5, 17)\n",
    "# end_date = datetime.datetime(219, , 17)\n",
    "for index, filename in enumerate(os.listdir('../data/interim/cleaned_csv/')):\n",
    "    if filename.endswith(\".csv\"):\n",
    "        print('Starting with the file:' + filename)\n",
    "        start_date = datetime(year = 2019, month = index+1, day = 1, hour = 0, minute = 0, second = 0)\n",
    "        end_date = datetime(year = 2019, month = index+1, day = calendar.monthrange(2019, index+1)[1], hour = 0, minute = 0, second = 0)\n",
    "        dataframe = dd.read_csv('../data/interim/cleaned_csv/' + os.path.join(filename))\n",
    "        dataframe = dataframe[(dataframe['tpep_pickup_datetime'] > str(start_date)) & (dataframe['tpep_pickup_datetime'] < str(end_date))].compute()\n",
    "        times = pd.to_datetime(dataframe['tpep_pickup_datetime'])\n",
    "        data = dataframe.groupby([times.dt.month, times.dt.day, times.dt.hour])['VendorID'].count()\n",
    "        bins = pd.concat([bins,data])\n"
   ],
   "metadata": {
    "collapsed": false,
    "pycharm": {
     "name": "#%%\n"
    }
   }
  },
  {
   "cell_type": "markdown",
   "source": [
    "# Data Preprocessing\n",
    "Anhand der gegroupten Werte könen wir unsere Datenframe erstellen.\n",
    "Wir konzentrieren uns nur auf die Zeitwerte, d.h. Monat, Wochentag und Stunde"
   ],
   "metadata": {
    "collapsed": false,
    "pycharm": {
     "name": "#%% md\n"
    }
   }
  },
  {
   "cell_type": "code",
   "execution_count": 5,
   "outputs": [
    {
     "data": {
      "text/plain": "    month  weekday  hour  counted_taxi_drives\n0       1        1     0              13207.0\n0       1        1     1              15182.0\n0       1        1     2              12955.0\n0       1        1     3              10204.0\n0       1        1     4               6666.0\n..    ...      ...   ...                  ...\n0      12        0    19               9304.0\n0      12        0    20               7938.0\n0      12        0    21               8182.0\n0      12        0    22               7276.0\n0      12        0    23               6070.0\n\n[8471 rows x 4 columns]",
      "text/html": "<div>\n<style scoped>\n    .dataframe tbody tr th:only-of-type {\n        vertical-align: middle;\n    }\n\n    .dataframe tbody tr th {\n        vertical-align: top;\n    }\n\n    .dataframe thead th {\n        text-align: right;\n    }\n</style>\n<table border=\"1\" class=\"dataframe\">\n  <thead>\n    <tr style=\"text-align: right;\">\n      <th></th>\n      <th>month</th>\n      <th>weekday</th>\n      <th>hour</th>\n      <th>counted_taxi_drives</th>\n    </tr>\n  </thead>\n  <tbody>\n    <tr>\n      <th>0</th>\n      <td>1</td>\n      <td>1</td>\n      <td>0</td>\n      <td>13207.0</td>\n    </tr>\n    <tr>\n      <th>0</th>\n      <td>1</td>\n      <td>1</td>\n      <td>1</td>\n      <td>15182.0</td>\n    </tr>\n    <tr>\n      <th>0</th>\n      <td>1</td>\n      <td>1</td>\n      <td>2</td>\n      <td>12955.0</td>\n    </tr>\n    <tr>\n      <th>0</th>\n      <td>1</td>\n      <td>1</td>\n      <td>3</td>\n      <td>10204.0</td>\n    </tr>\n    <tr>\n      <th>0</th>\n      <td>1</td>\n      <td>1</td>\n      <td>4</td>\n      <td>6666.0</td>\n    </tr>\n    <tr>\n      <th>...</th>\n      <td>...</td>\n      <td>...</td>\n      <td>...</td>\n      <td>...</td>\n    </tr>\n    <tr>\n      <th>0</th>\n      <td>12</td>\n      <td>0</td>\n      <td>19</td>\n      <td>9304.0</td>\n    </tr>\n    <tr>\n      <th>0</th>\n      <td>12</td>\n      <td>0</td>\n      <td>20</td>\n      <td>7938.0</td>\n    </tr>\n    <tr>\n      <th>0</th>\n      <td>12</td>\n      <td>0</td>\n      <td>21</td>\n      <td>8182.0</td>\n    </tr>\n    <tr>\n      <th>0</th>\n      <td>12</td>\n      <td>0</td>\n      <td>22</td>\n      <td>7276.0</td>\n    </tr>\n    <tr>\n      <th>0</th>\n      <td>12</td>\n      <td>0</td>\n      <td>23</td>\n      <td>6070.0</td>\n    </tr>\n  </tbody>\n</table>\n<p>8471 rows × 4 columns</p>\n</div>"
     },
     "execution_count": 5,
     "metadata": {},
     "output_type": "execute_result"
    }
   ],
   "source": [
    "binned_dataframe_2019 = pd.DataFrame()\n",
    "for index, row in bins.iterrows():\n",
    "    date = datetime(year = 2019, month = index[0], day = index[1])\n",
    "    d = {'month': [index[0]], 'weekday': [date.weekday()], 'hour': [index[2]], 'counted_taxi_drives': [row[0]] }\n",
    "    binned_dataframe_2019 = pd.concat([binned_dataframe_2019, pd.DataFrame(data=d)])\n",
    "binned_dataframe_2019.to_csv('../data/processed/binned_dataframe_to_hours.csv', index=False)\n",
    "binned_dataframe_2019"
   ],
   "metadata": {
    "collapsed": false,
    "pycharm": {
     "name": "#%%\n"
    }
   }
  },
  {
   "cell_type": "markdown",
   "source": [
    "Wir definieren unsere Features: ['month', 'weekday', 'hour']\n",
    "Unser Target ist dabei 'counted_taxi_drives'"
   ],
   "metadata": {
    "collapsed": false,
    "pycharm": {
     "name": "#%% md\n"
    }
   }
  },
  {
   "cell_type": "code",
   "execution_count": 10,
   "outputs": [
    {
     "data": {
      "text/plain": "   month   weekday      hour  counted_taxi_drives\n0    0.0  0.166667  0.000000             0.613453\n1    0.0  0.166667  0.043478             0.708620\n2    0.0  0.166667  0.086957             0.601311\n3    0.0  0.166667  0.130435             0.468752\n4    0.0  0.166667  0.173913             0.298270",
      "text/html": "<div>\n<style scoped>\n    .dataframe tbody tr th:only-of-type {\n        vertical-align: middle;\n    }\n\n    .dataframe tbody tr th {\n        vertical-align: top;\n    }\n\n    .dataframe thead th {\n        text-align: right;\n    }\n</style>\n<table border=\"1\" class=\"dataframe\">\n  <thead>\n    <tr style=\"text-align: right;\">\n      <th></th>\n      <th>month</th>\n      <th>weekday</th>\n      <th>hour</th>\n      <th>counted_taxi_drives</th>\n    </tr>\n  </thead>\n  <tbody>\n    <tr>\n      <th>0</th>\n      <td>0.0</td>\n      <td>0.166667</td>\n      <td>0.000000</td>\n      <td>0.613453</td>\n    </tr>\n    <tr>\n      <th>1</th>\n      <td>0.0</td>\n      <td>0.166667</td>\n      <td>0.043478</td>\n      <td>0.708620</td>\n    </tr>\n    <tr>\n      <th>2</th>\n      <td>0.0</td>\n      <td>0.166667</td>\n      <td>0.086957</td>\n      <td>0.601311</td>\n    </tr>\n    <tr>\n      <th>3</th>\n      <td>0.0</td>\n      <td>0.166667</td>\n      <td>0.130435</td>\n      <td>0.468752</td>\n    </tr>\n    <tr>\n      <th>4</th>\n      <td>0.0</td>\n      <td>0.166667</td>\n      <td>0.173913</td>\n      <td>0.298270</td>\n    </tr>\n  </tbody>\n</table>\n</div>"
     },
     "execution_count": 10,
     "metadata": {},
     "output_type": "execute_result"
    }
   ],
   "source": [
    "features = ['month', 'weekday', 'hour']\n",
    "columns = ['month', 'weekday', 'hour', 'counted_taxi_drives']\n",
    "scaled_data = pd.read_csv('../data/processed/binned_dataframe_to_hours.csv')\n",
    "# define min max scaler\n",
    "scaler = MinMaxScaler()\n",
    "# transform data\n",
    "scaled_data[columns] = scaler.fit_transform(binned_dataframe_2019[columns])\n",
    "# output transformed data\n",
    "scaled_data.head()\n"
   ],
   "metadata": {
    "collapsed": false,
    "pycharm": {
     "name": "#%%\n"
    }
   }
  },
  {
   "cell_type": "code",
   "execution_count": 16,
   "outputs": [],
   "source": [
    "# split data into train and test sets\n",
    "X = scaled_data[features]\n",
    "y = scaled_data[\"counted_taxi_drives\"]\n",
    "X_train, X_test, y_train, y_test = train_test_split(X, y, test_size=0.25, random_state=123)\n",
    "X_train = X_train[features]\n",
    "X_test = X_test[features]"
   ],
   "metadata": {
    "collapsed": false,
    "pycharm": {
     "name": "#%%\n"
    }
   }
  },
  {
   "cell_type": "code",
   "execution_count": 17,
   "outputs": [
    {
     "name": "stdout",
     "output_type": "stream",
     "text": [
      "Test RMSE for Linear Regression is  0.16434937509383976\n",
      "Train RMSE for Linear Regression is  0.16496093369169346\n",
      "Variance for Linear Regression is  0.0006115585978536953\n"
     ]
    }
   ],
   "source": [
    "lm = LinearRegression()\n",
    "lm.fit(X_train, y_train)\n",
    "y_pred = np.round(lm.predict(X_test), 2)\n",
    "lm_rmse = np.sqrt(mean_squared_error(y_pred, y_test))\n",
    "lm_train_rmse = np.sqrt(mean_squared_error(lm.predict(X_train), y_train))\n",
    "lm_variance = abs(lm_train_rmse - lm_rmse)\n",
    "print(\"Test RMSE for Linear Regression is \", lm_rmse)\n",
    "print(\"Train RMSE for Linear Regression is \", lm_train_rmse)\n",
    "print(\"Variance for Linear Regression is \", lm_variance)"
   ],
   "metadata": {
    "collapsed": false,
    "pycharm": {
     "name": "#%%\n"
    }
   }
  },
  {
   "cell_type": "code",
   "execution_count": 18,
   "outputs": [
    {
     "name": "stdout",
     "output_type": "stream",
     "text": [
      "0.9008253349959691\n",
      "RMSE for Random Forest is  0.07287466748087247\n"
     ]
    }
   ],
   "source": [
    "rf = RandomForestRegressor(n_estimators=100, random_state=883, n_jobs=-1)\n",
    "rf.fit(X_train, y_train)\n",
    "rf_pred = rf.predict(X_test)\n",
    "rf_rmse = np.sqrt(mean_squared_error(rf_pred, y_test))\n",
    "print(rf.score(X_test, y_test))\n",
    "print(\"RMSE for Random Forest is \", rf_rmse)"
   ],
   "metadata": {
    "collapsed": false,
    "pycharm": {
     "name": "#%%\n"
    }
   }
  },
  {
   "cell_type": "code",
   "execution_count": 19,
   "outputs": [
    {
     "name": "stdout",
     "output_type": "stream",
     "text": [
      "month = 0.05164626888198808\n",
      "weekday = 0.12621857310729212\n",
      "hour = 0.8221351580107198\n"
     ]
    },
    {
     "data": {
      "text/plain": "<Figure size 432x288 with 1 Axes>",
      "image/png": "[encoded data removed]"
     },
     "metadata": {
      "needs_background": "light"
     },
     "output_type": "display_data"
    }
   ],
   "source": [
    "for name, importance in zip(features, rf.feature_importances_):\n",
    "    print(name, \"=\", importance)\n",
    "\n",
    "importances = rf.feature_importances_\n",
    "indices = np.argsort(importances)\n",
    "\n",
    "plt.title('RF - Feature Importances')\n",
    "plt.barh(range(len(indices)), importances[indices], color='b', align='center')\n",
    "plt.yticks(range(len(indices)), [features[i] for i in indices])\n",
    "plt.xlabel('Relative Importance')\n",
    "plt.show()"
   ],
   "metadata": {
    "collapsed": false,
    "pycharm": {
     "name": "#%%\n"
    }
   }
  },
  {
   "cell_type": "code",
   "execution_count": 23,
   "outputs": [
    {
     "name": "stdout",
     "output_type": "stream",
     "text": [
      "[LightGBM] [Warning] Auto-choosing row-wise multi-threading, the overhead of testing was 0.000093 seconds.\n",
      "You can set `force_row_wise=true` to remove the overhead.\n",
      "And if memory is not enough, you can set `force_col_wise=true`.\n",
      "[LightGBM] [Info] Total Bins 43\n",
      "[LightGBM] [Info] Number of data points in the train set: 5715, number of used features: 3\n",
      "[LightGBM] [Warning] Auto-choosing row-wise multi-threading, the overhead of testing was 0.000081 seconds.\n",
      "You can set `force_row_wise=true` to remove the overhead.\n",
      "And if memory is not enough, you can set `force_col_wise=true`.\n",
      "[LightGBM] [Info] Total Bins 43\n",
      "[LightGBM] [Info] Number of data points in the train set: 5715, number of used features: 3\n",
      "[LightGBM] [Warning] Auto-choosing row-wise multi-threading, the overhead of testing was 0.000077 seconds.\n",
      "You can set `force_row_wise=true` to remove the overhead.\n",
      "And if memory is not enough, you can set `force_col_wise=true`.\n",
      "[LightGBM] [Info] Total Bins 43\n",
      "[LightGBM] [Info] Number of data points in the train set: 5715, number of used features: 3\n",
      "[LightGBM] [Warning] Auto-choosing row-wise multi-threading, the overhead of testing was 0.000087 seconds.\n",
      "You can set `force_row_wise=true` to remove the overhead.\n",
      "And if memory is not enough, you can set `force_col_wise=true`.\n",
      "[LightGBM] [Info] Total Bins 43\n",
      "[LightGBM] [Info] Number of data points in the train set: 5715, number of used features: 3\n",
      "[LightGBM] [Warning] Auto-choosing row-wise multi-threading, the overhead of testing was 0.000085 seconds.\n",
      "You can set `force_row_wise=true` to remove the overhead.\n",
      "And if memory is not enough, you can set `force_col_wise=true`.\n",
      "[LightGBM] [Info] Total Bins 43\n",
      "[LightGBM] [Info] Number of data points in the train set: 5715, number of used features: 3\n",
      "[LightGBM] [Warning] Auto-choosing row-wise multi-threading, the overhead of testing was 0.000083 seconds.\n",
      "You can set `force_row_wise=true` to remove the overhead.\n",
      "And if memory is not enough, you can set `force_col_wise=true`.\n",
      "[LightGBM] [Info] Total Bins 43\n",
      "[LightGBM] [Info] Number of data points in the train set: 5715, number of used features: 3\n",
      "[LightGBM] [Warning] Auto-choosing row-wise multi-threading, the overhead of testing was 0.000083 seconds.\n",
      "You can set `force_row_wise=true` to remove the overhead.\n",
      "And if memory is not enough, you can set `force_col_wise=true`.\n",
      "[LightGBM] [Info] Total Bins 43\n",
      "[LightGBM] [Info] Number of data points in the train set: 5715, number of used features: 3\n",
      "[LightGBM] [Warning] Auto-choosing row-wise multi-threading, the overhead of testing was 0.000059 seconds.\n",
      "You can set `force_row_wise=true` to remove the overhead.\n",
      "And if memory is not enough, you can set `force_col_wise=true`.\n",
      "[LightGBM] [Info] Total Bins 43\n",
      "[LightGBM] [Info] Number of data points in the train set: 5715, number of used features: 3\n",
      "[LightGBM] [Warning] Auto-choosing row-wise multi-threading, the overhead of testing was 0.000230 seconds.\n",
      "You can set `force_row_wise=true` to remove the overhead.\n",
      "And if memory is not enough, you can set `force_col_wise=true`.\n",
      "[LightGBM] [Info] Total Bins 43\n",
      "[LightGBM] [Info] Number of data points in the train set: 5715, number of used features: 3\n",
      "[LightGBM] [Warning] Auto-choosing col-wise multi-threading, the overhead of testing was 0.000245 seconds.\n",
      "You can set `force_col_wise=true` to remove the overhead.\n",
      "[LightGBM] [Info] Total Bins 43\n",
      "[LightGBM] [Info] Number of data points in the train set: 5715, number of used features: 3\n",
      "[LightGBM] [Info] Start training from score 0.437732\n",
      "[LightGBM] [Info] Start training from score 0.437654\n",
      "[LightGBM] [Info] Start training from score 0.437654\n",
      "[LightGBM] [Info] Start training from score 0.437747\n",
      "[LightGBM] [Info] Start training from score 0.437768\n",
      "[LightGBM] [Info] Start training from score 0.437497\n",
      "[LightGBM] [Info] Start training from score 0.438309\n",
      "[LightGBM] [Info] Start training from score 0.436794\n",
      "[LightGBM] [Info] Start training from score 0.439740\n",
      "[LightGBM] [Info] Start training from score 0.438084\n",
      "[20]\tcv_agg's rmse: 0.0741767 + 0.00492901\n",
      "[40]\tcv_agg's rmse: 0.0650908 + 0.00571676\n",
      "[60]\tcv_agg's rmse: 0.064241 + 0.00575895\n",
      "[80]\tcv_agg's rmse: 0.0642748 + 0.00580099\n",
      "[LightGBM] [Warning] Auto-choosing row-wise multi-threading, the overhead of testing was 0.000136 seconds.\n",
      "You can set `force_row_wise=true` to remove the overhead.\n",
      "And if memory is not enough, you can set `force_col_wise=true`.\n",
      "[LightGBM] [Info] Total Bins 43\n",
      "[LightGBM] [Info] Number of data points in the train set: 6353, number of used features: 3\n",
      "[LightGBM] [Info] Start training from score 0.437931\n",
      "RMSE for Light GBM is  0.07300752997217244\n"
     ]
    }
   ],
   "source": [
    "train_data = lgb.Dataset(X_train, label=y_train)\n",
    "param = {'num_leaves': 31, 'num_trees': 5000, 'objective': 'regression'}\n",
    "param['metric'] = 'l2_root'\n",
    "num_round = 5000\n",
    "cv_results = lgb.cv(param, train_data, num_boost_round=num_round, nfold=10, verbose_eval=20, early_stopping_rounds=20,\n",
    "                    stratified=False)\n",
    "lgb_bst = lgb.train(param, train_data, len(cv_results['rmse-mean']))\n",
    "lgb_pred = lgb_bst.predict(X_test)\n",
    "lgb_rmse = np.sqrt(mean_squared_error(lgb_pred, y_test))\n",
    "print(\"RMSE for Light GBM is \", lgb_rmse)"
   ],
   "metadata": {
    "collapsed": false,
    "pycharm": {
     "name": "#%%\n"
    }
   }
  },
  {
   "cell_type": "markdown",
   "source": [
    "# Testen von Predictions"
   ],
   "metadata": {
    "collapsed": false,
    "pycharm": {
     "name": "#%% md\n"
    }
   }
  },
  {
   "cell_type": "code",
   "execution_count": 30,
   "outputs": [
    {
     "name": "stdout",
     "output_type": "stream",
     "text": [
      "test_data: \n",
      "   month weekday hour\n",
      "0     2       0    2\n",
      "Linear Regression:  5664.25  Nachfrage nach Taxifahrten\n",
      "Random Forest:  1410.8648968253967  Nachfrage nach Taxifahrten\n",
      "LightGBM:  1364.808528463197  Nachfrage nach Taxifahrten\n"
     ]
    },
    {
     "data": {
      "text/plain": "<Figure size 432x288 with 1 Axes>",
      "image/png": "[encoded data removed]"
     },
     "metadata": {
      "needs_background": "light"
     },
     "output_type": "display_data"
    }
   ],
   "source": [
    "def get_pred(algo, dataset):\n",
    "    scaled_test_data = scaler.transform([dataset])[0][:-1]\n",
    "    df_test = pd.DataFrame([scaled_test_data],\n",
    "                           columns=[features])\n",
    "    if algo == lm:\n",
    "        test_pred_scaled = np.append(scaled_test_data, np.round(algo.predict(df_test), 2))\n",
    "    else:\n",
    "        test_pred_scaled = np.append(scaled_test_data, algo.predict(df_test))\n",
    "\n",
    "    test_pred = scaler.inverse_transform([test_pred_scaled])[0][3]\n",
    "    return test_pred\n",
    "\n",
    "def get_input(text: str, range_start: int, range_end: int) -> int:\n",
    "    result = 0\n",
    "    while not result in range(range_start, range_end):\n",
    "        result = int(input(text))\n",
    "    return result\n",
    "\n",
    "\n",
    "if input(\"Hier können Einzeldaten fürs Testen eingegeben werden \\n Bei nein oder bei Enter werden Standardwerte genutzt \\n custom input: (y or N)\") == \"y\":\n",
    "    test_data = [get_input(text=\"Pickup Month (1 <= x <= 12): \", range_start=1, range_end=12),\n",
    "                 get_input(text=\"Weekday (0 <= x <= 6): \", range_start=0, range_end=6),\n",
    "                 get_input(text=\"Pickup Hour (1 <= x <= 23): \", range_start=1, range_end=23), 0]\n",
    "else:\n",
    "    test_data = [4, 1, 12, 0]\n",
    "\n",
    "lm_test_pred = get_pred(algo=lm, dataset=test_data)\n",
    "rf_test_pred = get_pred(algo=rf, dataset=test_data)\n",
    "lgb_test_pred = get_pred(algo=lgb_bst, dataset=test_data)\n",
    "\n",
    "print(\"test_data: \\n\", pd.DataFrame([test_data[:-1]],\n",
    "                                    columns=[features]).head())\n",
    "print(\"Linear Regression: \", lm_test_pred, \" Nachfrage nach Taxifahrten\")\n",
    "print(\"Random Forest: \", rf_test_pred, \" Nachfrage nach Taxifahrten\")\n",
    "print(\"LightGBM: \", lgb_test_pred, \" Nachfrage nach Taxifahrten\")\n",
    "\n",
    "# bar chart\n",
    "height = [lm_test_pred, rf_test_pred, lgb_test_pred]\n",
    "bars = ('LM', 'Random Forest', 'Light GBM')\n",
    "y_pos = np.arange(len(bars))\n",
    "# Create bars\n",
    "plt.bar(y_pos, height)\n",
    "# Create names on the x-axis\n",
    "plt.xticks(y_pos, bars)\n",
    "plt.ylabel('predicted_taxi_count')\n",
    "plt.xlabel('algorithm')\n",
    "# Show graphic\n",
    "plt.show()"
   ],
   "metadata": {
    "collapsed": false,
    "pycharm": {
     "name": "#%%\n"
    }
   }
  },
  {
   "cell_type": "markdown",
   "source": [
    "# Ausblick\n",
    "Die Performance der unterschiedlichen Modelle ist noch nicht besonders gut.\n",
    "Hier haben wir im Anbetracht der Zeit kein Tuning mehr gemacht allerdings wollen wir einen Ausblick geben:\n",
    "Zunächst einmal könnten wir uns vorstellen das Dataframe um weiter Features zu erweitern.\n",
    "Angedacht sind hier Wetterdaten, die eine Nachfrage nach Taxis beeinflussen könnten.\n",
    "bsp. mehr Fahrten bei Regen oder Kälte. Hierfür fehlten uns allerdings die benötigten Daten, um eine solche Erweiterung der Features zu ermöglichen.\n",
    "Ein weiteres Feature wäre zudem die Pickup Location, sodass wir auch unterscheiden könnten zwischen der Nachfrage in unterschiedlichen Regionen.\n",
    "Beispielsweise in einem Gewerbegebiet eher morgens und abens und in einem Gebiet mit vielen Clubs und Restaurant eher später Abend oder Nacht"
   ],
   "metadata": {
    "collapsed": false,
    "pycharm": {
     "name": "#%% md\n"
    }
   }
  }
 ],
 "metadata": {
  "kernelspec": {
   "display_name": "Python 3",
   "language": "python",
   "name": "python3"
  },
  "language_info": {
   "codemirror_mode": {
    "name": "ipython",
    "version": 2
   },
   "file_extension": ".py",
   "mimetype": "text/x-python",
   "name": "python",
   "nbconvert_exporter": "python",
   "pygments_lexer": "ipython2",
   "version": "2.7.6"
  }
 },
 "nbformat": 4,
 "nbformat_minor": 0
}