{
 "cells": [
  {
   "cell_type": "markdown",
   "metadata": {
    "pycharm": {
     "name": "#%% md\n"
    }
   },
   "source": [
    "## Einleitung\n",
    "Erste Schritte zum Einfinden in die Datenanalyse. Innerhalb dieses Pakets werden verschiedene Scatter sowie Boxplots visualisiert."
   ]
  },
  {
   "cell_type": "markdown",
   "metadata": {
    "pycharm": {
     "name": "#%% md\n"
    }
   },
   "source": [
    "### Laden der Daten \n",
    "Zuerst wurden die Daten aus den CSV Dateien geladen. Die Daten wurden in einem DataFrame gespeichert.\n",
    "Das DataFrame wurde dabei begrenzt, da es zu viele Datenpunkte gibt und eine Ausführung auf dem Laptop somit mit den verwendeten Ressourcen nicht möglich ist."
   ]
  },
  {
   "cell_type": "code",
   "execution_count": null,
   "outputs": [],
   "source": [
    "import pandas as pd\n",
    "import seaborn as sns\n",
    "import numpy as np\n",
    "import matplotlib.pyplot as plt\n",
    "\n",
    "df = pd.read_csv(\"../data/processed/randomized_aggregated_for_one_year.csv\")"
   ],
   "metadata": {
    "collapsed": false,
    "pycharm": {
     "name": "#%%\n"
    }
   }
  },
  {
   "cell_type": "markdown",
   "source": [
    "### Zusammenfassen von Zeitintervallen\n",
    "Entsprechende zusätzliche Informationen wurden aus den bestehenden Daten entnommen und zusätzliche Spalten gefüllt. Dabei wurden vor allem Zeitintervalle zusammengefasst sowie die Fahrdauer berechnet."
   ],
   "metadata": {
    "collapsed": false,
    "pycharm": {
     "name": "#%% md\n"
    }
   }
  },
  {
   "cell_type": "code",
   "execution_count": null,
   "outputs": [],
   "source": [
    "# summarize time data (month/day/weekday/duration/hour)\n",
    "df['tpep_pickup_datetime'] = pd.to_datetime(df['tpep_pickup_datetime'], format = '%Y-%m-%d %H:%M:%S')\n",
    "df['tpep_dropoff_datetime'] = pd.to_datetime(df['tpep_dropoff_datetime'], format = '%Y-%m-%d %H:%M:%S')\n",
    "\n",
    "df['tpep_pickup_day_numeric'] = df['tpep_pickup_datetime'].dt.day\n",
    "df['tpep_dropoff_day_numeric'] = df['tpep_dropoff_datetime'].dt.day\n",
    "df['tpep_pickup_day_name'] = df['tpep_pickup_datetime'].dt.day_name()\n",
    "df['tpep_dropoff_day_name'] = df['tpep_dropoff_datetime'].dt.day_name()\n",
    "df['tpep_pickup_day'] = df['tpep_pickup_datetime'].dt.strftime(\"%w\").astype(int)\n",
    "df['tpep_dropoff_day'] = df['tpep_dropoff_datetime'].dt.strftime(\"%w\").astype(int)\n",
    "df['tpep_pickup_hour'] = df['tpep_pickup_datetime'].dt.hour\n",
    "df['tpep_dropoff_hour'] = df['tpep_dropoff_datetime'].dt.hour\n",
    "df['duration_hours'] = (df['tpep_dropoff_datetime']-df['tpep_pickup_datetime'])/np.timedelta64(1,'h')\n",
    "df['trip_duration'] = (df['tpep_dropoff_datetime'] - df['tpep_pickup_datetime']).dt.seconds\n",
    "df['tpep_pickup_month'] = df['tpep_pickup_datetime'].dt.month_name()\n",
    "\n",
    "\n",
    "df['PULocationID'].fillna(-1, inplace=True)\n",
    "df['DOLocationID'].fillna(-1, inplace=True)\n",
    "\n",
    "df"
   ],
   "metadata": {
    "collapsed": false,
    "pycharm": {
     "name": "#%%\n"
    }
   }
  },
  {
   "cell_type": "markdown",
   "source": [
    "r### Binninig: Zusammenfassung von Wertebereichen\n",
    "Binning ist wichtig für spätere Auswertungen, da diese besser in Visualisierung dargestellt werden können. Grund dafür ist, dass Werte in Intervalle summiert werden. "
   ],
   "metadata": {
    "collapsed": false,
    "pycharm": {
     "name": "#%% md\n"
    }
   }
  },
  {
   "cell_type": "code",
   "execution_count": null,
   "outputs": [],
   "source": [
    "# binning\n",
    "# Create the labels for the bin\n",
    "bin_labels_total = [ 10, 20, 30, 50, 100, 500]\n",
    "bin_labels_duration_hours = [0.05, 0.1, 0.5, 1, 5, 10]\n",
    "bin_labels_tip = [ 1,2,5, 8,10]\n",
    "\n",
    "# Define the scope of the bins\n",
    "bins_total = [0, 10, 20, 30, 50, 100, 500]\n",
    "bins_duration_hours = [0, 0.05, 0.1, 0.5, 1, 5, 10]\n",
    "bins_tip = [0, 1, 2, 5,8 ,10]\n",
    "\n",
    "# Create the \"bins\" column using the cut function using the bins and labels\n",
    "df['bins_total'] = pd.cut(df['total_amount'], bins=bins_total, labels=bin_labels_total)\n",
    "df['bins_duration_hours'] = pd.cut(df['duration_hours'], bins=bins_duration_hours, labels=bin_labels_duration_hours)\n",
    "df['bins_tip'] = pd.cut(df['tip_amount'], bins=bins_tip, labels=bin_labels_tip)"
   ],
   "metadata": {
    "collapsed": false,
    "pycharm": {
     "name": "#%%\n"
    }
   }
  },
  {
   "cell_type": "markdown",
   "source": [
    "### Initialer Boxplot\n",
    "Darstellung eines Boxplots sowie Ausgabe von statistischen Zahlen für die Einschätzung der Daten. \n",
    "\n",
    "**Ergebnis:**\n",
    " Zonen von 1 bis 265 vorhanden. Vor allem viele Fahrten im hohen Zonen Bereich vorhanden. Insgesamt aber eine geringe Aussagekraft, da Grund für den verschobenen Boxplot eine/mehrere summierte erhöhte Werte in Zonen im hohen Bereich vorhanden sein können. Ein geografischer Bereich kann zuzüglich nicht definiert werden, da die Zonen IDs nicht dementsprechend gruppiert sind."
   ],
   "metadata": {
    "collapsed": false,
    "pycharm": {
     "name": "#%% md\n"
    }
   }
  },
  {
   "cell_type": "code",
   "execution_count": null,
   "outputs": [],
   "source": [
    "# boxplot\n",
    "# Creating dataset\n",
    "fig = plt.figure(figsize =(10, 7))\n",
    "\n",
    "# Creating plot\n",
    "plt.boxplot(df['PULocationID'])\n",
    "\n",
    "# describe PUL\n",
    "print(df['PULocationID'].describe())\n",
    "\n",
    "# show plot\n",
    "plt.show()"
   ],
   "metadata": {
    "collapsed": false,
    "pycharm": {
     "name": "#%%\n"
    }
   }
  },
  {
   "cell_type": "markdown",
   "source": [
    "### Abhängigkeit von Fahrtantritten je Wochentag\n",
    "Hier wurde die neu erstellte Dimension der Wochentage genutzt. Auch wurden die Pickups und Dropoffs gegenübergestellt.\n",
    "\n",
    "**Ergebnis** Viele Fahrten am Donnerstag, wenige am Sonntag. --> Mögliche nicht bestätigte Schlussfolgerung kann sein, dass Bewohner Taxis mehr als Touristen nutzen."
   ],
   "metadata": {
    "collapsed": false,
    "pycharm": {
     "name": "#%% md\n"
    }
   }
  },
  {
   "cell_type": "code",
   "execution_count": null,
   "outputs": [],
   "source": [
    "# trips per weekday\n",
    "figure,(ax1,ax2)=plt.subplots(ncols=2,figsize=(20,5))\n",
    "ax1.set_title('Pickup Days')\n",
    "sns.countplot(x=\"tpep_pickup_day_name\",data=df,ax=ax1)\n",
    "\n",
    "ax2.set_title('Dropoff Days')\n",
    "sns.countplot(x=\"tpep_dropoff_day_name\",data=df,ax=ax2)"
   ],
   "metadata": {
    "collapsed": false,
    "pycharm": {
     "name": "#%%\n"
    }
   }
  },
  {
   "cell_type": "markdown",
   "source": [
    "### Abhängigkeit von Fahrtantritten je Tageszeit im Stundenintervall\n",
    "Die Stunden eines Tages wurden viusalisiert. Es  wurde keine Unterscheidung zwischen Wochentag und Wochenende getroffen\n",
    "\n",
    "**Ergebnis**: Zwischen 6 Uhr und 22 Uhr sind besonders viele Fahrt zu verzeichnen. In der anderen Zeit schlafen wahrscheinlich die Bewohner/Touristen von NYC."
   ],
   "metadata": {
    "collapsed": false,
    "pycharm": {
     "name": "#%% md\n"
    }
   }
  },
  {
   "cell_type": "code",
   "execution_count": null,
   "outputs": [],
   "source": [
    "#trips per hour\n",
    "figure,(ax5,ax6)=plt.subplots(ncols=2,figsize=(20,5))\n",
    "ax5.set_title('Pickup Days')\n",
    "sns.countplot(x=\"tpep_pickup_hour\",data=df,ax=ax5)\n",
    "ax6.set_title('Dropoff Days')\n",
    "sns.countplot(x=\"tpep_dropoff_hour\",data=df,ax=ax6)"
   ],
   "metadata": {
    "collapsed": false,
    "pycharm": {
     "name": "#%%\n"
    }
   }
  },
  {
   "cell_type": "markdown",
   "source": [
    "### Abhängigkeit von Fahrzeit und Anzahl der Passagiere\n",
    "Nachfolgend wird eine mögliche Korrelation zwischen der Anzahl von Passagieren und der Dauer der Fahrt untersucht.\n",
    " \n",
    "**Ergebnis**: Viele Kurzstrecken wurden durchgeführt. Darunter auch viele Fahrten mit nur einer Person. Einbruch bei 4 Passagieren ist durch den Einsatz eines Großraumtaxis ab dieser Personenanzahl  zu erklären. Im Wertebereich von 1,8 bis 6 Stunden wurden fast keine Fahrten durchgeführt. Einzelne Ausreißer sind vorhanden."
   ],
   "metadata": {
    "collapsed": false,
    "pycharm": {
     "name": "#%% md\n"
    }
   }
  },
  {
   "cell_type": "code",
   "execution_count": null,
   "outputs": [],
   "source": [
    "#duration/passenger_count\n",
    "sns.catplot(y=\"duration_hours\",x=\"passenger_count\",data=df,kind=\"strip\")"
   ],
   "metadata": {
    "collapsed": false,
    "pycharm": {
     "name": "#%%\n"
    }
   }
  },
  {
   "cell_type": "markdown",
   "source": [
    "### Abhängigkeit von Gesamtpreis und Monatstag\n",
    "**Ergebnis**: Sehr viele Fahrten mit einem Gesamtpreis der Fahrt bis 100 Dollar. Darüber hinaus gibt es nur Ausreißer. Es werden somit viele Fahrten für bis zu 100 Dollar durchgeführt. Die Fahrten darüber hinaus werden eher selten durchgeführt. In Bezug auf den Standort NYC ist dieses als realistisch einzuordnen.  "
   ],
   "metadata": {
    "collapsed": false,
    "pycharm": {
     "name": "#%% md\n"
    }
   }
  },
  {
   "cell_type": "code",
   "execution_count": null,
   "outputs": [],
   "source": [
    "# days/total\n",
    "sns.lmplot(data=df, x=\"tpep_pickup_day_numeric\", y=\"total_amount\")"
   ],
   "metadata": {
    "collapsed": false,
    "pycharm": {
     "name": "#%%\n"
    }
   }
  },
  {
   "cell_type": "markdown",
   "source": [
    "### Abhängigkeit zwischen Wochentag/Dauer/Trinkgeld/Gesamtkosten\n",
    "Nachfolgend soll eine Korrelation zwischen Wochentag/Dauer/Trinkgeld/Gesamtkosten untersucht werden. Als Visualiserung wurde zuerst ein Scatter Chart verwendet um die verschiedenen Dimensionen darzustellen.\n",
    "\n",
    "**Ergebnis**: Unübersichtliche Darstellung und Dauer nicht richtig dargestellt. --> Einführung von Bins sinnvoll. (Siehe nächstes Chart)"
   ],
   "metadata": {
    "collapsed": false,
    "pycharm": {
     "name": "#%% md\n"
    }
   }
  },
  {
   "cell_type": "code",
   "execution_count": null,
   "outputs": [],
   "source": [
    "# total/tip/duration\n",
    "sns.relplot(x=\"total_amount\", y=\"tip_amount\", size=\"duration_hours\", hue=\"tpep_pickup_day_name\",\n",
    "            alpha=0.99,\n",
    "            palette=\"muted\",\n",
    "            height=8,\n",
    "            data=df)"
   ],
   "metadata": {
    "collapsed": false,
    "pycharm": {
     "name": "#%%\n"
    }
   }
  },
  {
   "cell_type": "markdown",
   "source": [
    "**Ergebnis**: Die Dimension der Dauer konnte erfolgreich abgebildet werden. Trotzdem ist die Darstellung unübersichtlich. Kein brauchbarer Informationsgehalt. --> Einführung von Gruppen zusätzlich zu dem Binning (siehe nächstes Chart)"
   ],
   "metadata": {
    "collapsed": false,
    "pycharm": {
     "name": "#%% md\n"
    }
   }
  },
  {
   "cell_type": "code",
   "execution_count": null,
   "outputs": [],
   "source": [
    "# total/tip/bin_duration\n",
    "sns.relplot(x=\"total_amount\", y=\"tip_amount\", size=\"bins_duration_hours\", hue=\"tpep_pickup_day\",  sizes=(5,400),          alpha=0.5,  palette=\"muted\",height=8,data=df)"
   ],
   "metadata": {
    "collapsed": false,
    "pycharm": {
     "name": "#%%\n"
    }
   }
  },
  {
   "cell_type": "markdown",
   "source": [
    "Es wurde nach Wochentag gruppiert. Es wurde der Durchschnitt verwendet.\n",
    "\n",
    "**Ergebnis**: Durchschnittlicher Betrag der Gesamtkosten betragen zwischen 14,3 Dollar und 15,9 Dollar. Die durchschnittliche Dauer beträgt zwischen 10,4 und 10,9 Minuten. Das durchschnittliche Trinkgeld beläuft sich auf 1,6 Dollar bis 1,9 Dollar. Es ist somit eine realtiv geringe Abweichung zwischen den einzelnen Wochentagen vorhanden.\n",
    "Herauszustellen ist dabei aber, dass am Donnerstag (Tag 4) eine besonders hoher durchschnittlicher Gesamtpreis sowie Trinkgeld zu verzeichenen ist. Am Wochende werden relativ kostengünstige Fahrten durchgeführt. Auch ist hier das Trinkgeld geringer. Es ist zudem ein korrelierender Zusammenhang zwischen Gesamtpreis und Trinkgeld zu verzeichnen."
   ],
   "metadata": {
    "collapsed": false,
    "pycharm": {
     "name": "#%% md\n"
    }
   }
  },
  {
   "cell_type": "code",
   "execution_count": null,
   "outputs": [],
   "source": [
    "# total/tip/bin_duration (mean)\n",
    "df_week_days = df.groupby([\"tpep_pickup_day\"]).mean()\n",
    "\n",
    "sns.relplot(x=\"total_amount\", y=\"tip_amount\", size=\"duration_hours\", hue=\"tpep_pickup_day\",  sizes=(100,1000),          alpha=0.5,  palette=\"muted\",height=8,data=df_week_days)"
   ],
   "metadata": {
    "collapsed": false,
    "pycharm": {
     "name": "#%%\n"
    }
   }
  },
  {
   "cell_type": "code",
   "execution_count": null,
   "outputs": [],
   "source": [],
   "metadata": {
    "collapsed": false,
    "pycharm": {
     "name": "#%%\n"
    }
   }
  },
  {
   "cell_type": "code",
   "execution_count": null,
   "metadata": {
    "pycharm": {
     "name": "#%%\n"
    }
   },
   "outputs": [],
   "source": []
  },
  {
   "cell_type": "code",
   "execution_count": null,
   "metadata": {
    "pycharm": {
     "name": "#%%\n"
    }
   },
   "outputs": [],
   "source": []
  }
 ],
 "metadata": {
  "kernelspec": {
   "display_name": "Python 3 (ipykernel)",
   "language": "python",
   "name": "python3"
  },
  "language_info": {
   "codemirror_mode": {
    "name": "ipython",
    "version": 3
   },
   "file_extension": ".py",
   "mimetype": "text/x-python",
   "name": "python",
   "nbconvert_exporter": "python",
   "pygments_lexer": "ipython3",
   "version": "3.9.13"
  },
  "vscode": {
   "interpreter": {
    "hash": "397704579725e15f5c7cb49fe5f0341eb7531c82d19f2c29d197e8b64ab5776b"
   }
  }
 },
 "nbformat": 4,
 "nbformat_minor": 1
}