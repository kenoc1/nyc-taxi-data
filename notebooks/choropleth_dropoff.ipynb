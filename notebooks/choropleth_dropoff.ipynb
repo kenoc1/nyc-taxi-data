{
 "cells": [
  {
   "cell_type": "code",
   "execution_count": 4,
   "outputs": [],
   "source": [
    "import json\n",
    "\n",
    "import folium\n",
    "import pandas as pd"
   ],
   "metadata": {
    "collapsed": false,
    "pycharm": {
     "name": "#%%\n"
    }
   }
  },
  {
   "cell_type": "code",
   "execution_count": 5,
   "outputs": [],
   "source": [
    "geodata_url = '../NYC Taxi Zones.geojson'\n",
    "\n",
    "with open(geodata_url) as json_file:\n",
    "    data = json.load(json_file)"
   ],
   "metadata": {
    "collapsed": false,
    "pycharm": {
     "name": "#%%\n"
    }
   }
  },
  {
   "cell_type": "code",
   "execution_count": 6,
   "outputs": [],
   "source": [
    "truedata_url = \"../do_location_aggregated.csv\"\n",
    "true_data = pd.read_csv(truedata_url)\n",
    "true_data.set_index(true_data[\"DOLocationID\"], inplace=True)\n",
    "true_data[\"DOLocationID\"] = true_data[\"DOLocationID\"].apply(str)"
   ],
   "metadata": {
    "collapsed": false,
    "pycharm": {
     "name": "#%%\n"
    }
   }
  },
  {
   "cell_type": "code",
   "execution_count": 7,
   "outputs": [],
   "source": [
    "m = folium.Map(location=[40.730610, -73.935242], zoom_start=10)"
   ],
   "metadata": {
    "collapsed": false,
    "pycharm": {
     "name": "#%%\n"
    }
   }
  },
  {
   "cell_type": "code",
   "execution_count": 8,
   "outputs": [
    {
     "data": {
      "text/plain": "<folium.map.FeatureGroup at 0x209e2d51408>"
     },
     "execution_count": 8,
     "metadata": {},
     "output_type": "execute_result"
    }
   ],
   "source": [
    "# https://stackoverflow.com/questions/61345801/featuregroup-layer-control-in-folium-only-one-active-layer\n",
    "# wird benoetigt, damit bei den choropleths die map weiterhin im hintergrund angezeigt wird\n",
    "base_map = folium.FeatureGroup(name='Basemap', overlay=True, control=False)\n",
    "folium.TileLayer(tiles='OpenStreetMap').add_to(base_map)\n",
    "base_map.add_to(m)"
   ],
   "metadata": {
    "collapsed": false,
    "pycharm": {
     "name": "#%%\n"
    }
   }
  },
  {
   "cell_type": "code",
   "execution_count": 9,
   "outputs": [],
   "source": [
    "fg_pickups = folium.FeatureGroup(name='Anzahl Ausstiege', overlay=False).add_to(m)\n",
    "fg_time = folium.FeatureGroup(name='Durchschnittliche Fahrzeit', overlay=False).add_to(m)\n",
    "fg_distance = folium.FeatureGroup(name='Durchschnittliche Fahrstrecke', overlay=False).add_to(m)"
   ],
   "metadata": {
    "collapsed": false,
    "pycharm": {
     "name": "#%%\n"
    }
   }
  },
  {
   "cell_type": "code",
   "execution_count": 10,
   "outputs": [
    {
     "data": {
      "text/plain": "<folium.features.GeoJsonTooltip at 0x209e5efa448>"
     },
     "execution_count": 10,
     "metadata": {},
     "output_type": "execute_result"
    }
   ],
   "source": [
    "bins_pickups = list(true_data['dropoff_count'].quantile([0, 0.1, 0.2, 0.3, 0.5, 0.6, 0.7, 0.8, 0.95, 1]))\n",
    "colormap_pickups = folium.Choropleth(\n",
    "    geo_data=data,\n",
    "    name=\"choropleth\",\n",
    "    data=true_data,\n",
    "    bins=bins_pickups,  # mehr als neun bins können nicht mit der farbe dargestellt werden\n",
    "    columns=['DOLocationID', 'dropoff_count'],\n",
    "    key_on=\"feature.properties.location_id\",\n",
    "    fill_color=\"YlGnBu\",  # YlGn YlGnBu\n",
    "    fill_opacity=0.7,\n",
    "    line_opacity=0.2,\n",
    "    legend_name=\"Anzahl der Ausstiege\",\n",
    "    nan_fill_color=\"White\",\n",
    "    highlight=True\n",
    ").geojson.add_to(fg_pickups)\n",
    "\n",
    "for borough in colormap_pickups.data.get('features'):\n",
    "    borough_id = borough.get('properties').get('location_id')\n",
    "    try:\n",
    "        avg_pickups = int(true_data.loc[int(borough_id)]['dropoff_count'])\n",
    "        borough.get('properties')['dropoff_count'] = f\"{avg_pickups:,}\"\n",
    "    except ValueError:\n",
    "        borough.get('properties')['dropoff_count'] = None\n",
    "    except KeyError:\n",
    "        borough.get('properties')['dropoff_count'] = None\n",
    "\n",
    "folium.GeoJsonTooltip([\"zone\", \"borough\", \"dropoff_count\"], aliases=[\"Zone\", \"Borough\", \"Anzahl Ausstiege\"]).add_to(\n",
    "    colormap_pickups)"
   ],
   "metadata": {
    "collapsed": false,
    "pycharm": {
     "name": "#%%\n"
    }
   }
  },
  {
   "cell_type": "code",
   "execution_count": 11,
   "outputs": [
    {
     "data": {
      "text/plain": "<folium.features.GeoJsonTooltip at 0x209e5ee7c48>"
     },
     "execution_count": 11,
     "metadata": {},
     "output_type": "execute_result"
    }
   ],
   "source": [
    "bins_time = list(true_data['minutes_average'].quantile([0, 0.1, 0.2, 0.3, 0.5, 0.6, 0.7, 0.8, 0.95, 1]))\n",
    "colormap_time = folium.Choropleth(\n",
    "    geo_data=data,\n",
    "    name=\"choropleth\",\n",
    "    data=true_data,\n",
    "    bins=bins_time,  # mehr als neun bins können nicht mit der farbe dargestellt werden\n",
    "    columns=['DOLocationID', 'minutes_average'],\n",
    "    key_on=\"feature.properties.location_id\",\n",
    "    fill_color=\"YlGnBu\",  # YlGn YlGnBu\n",
    "    fill_opacity=0.7,\n",
    "    line_opacity=0.2,\n",
    "    legend_name=\"Dauer der Fahrt\",\n",
    "    nan_fill_color=\"White\",\n",
    "    highlight=True\n",
    ").geojson.add_to(fg_time)\n",
    "\n",
    "for borough in colormap_pickups.data.get('features'):\n",
    "    borough_id = borough.get('properties').get('location_id')\n",
    "    try:\n",
    "        avg_times = int(true_data.loc[int(borough_id)]['minutes_average'])\n",
    "        borough.get('properties')['minutes_average'] = f\"{avg_times:,} min\"\n",
    "    except ValueError:\n",
    "        borough.get('properties')['minutes_average'] = None\n",
    "    except KeyError:\n",
    "        borough.get('properties')['minutes_average'] = None\n",
    "\n",
    "folium.GeoJsonTooltip([\"zone\", \"borough\", \"minutes_average\"],\n",
    "                      aliases=[\"Zone\", \"Borough\", \"Dauer der Fahrten\"]).add_to(\n",
    "    colormap_time)"
   ],
   "metadata": {
    "collapsed": false,
    "pycharm": {
     "name": "#%%\n"
    }
   }
  },
  {
   "cell_type": "code",
   "execution_count": 12,
   "outputs": [
    {
     "data": {
      "text/plain": "<folium.features.GeoJsonTooltip at 0x209e2dc3188>"
     },
     "execution_count": 12,
     "metadata": {},
     "output_type": "execute_result"
    }
   ],
   "source": [
    "bins_distance = list(true_data['trip_distance_average'].quantile([0, 0.1, 0.2, 0.3, 0.5, 0.6, 0.7, 0.8, 0.95, 1]))\n",
    "colormap_distance = folium.Choropleth(\n",
    "    geo_data=data,\n",
    "    name=\"choropleth\",\n",
    "    data=true_data,\n",
    "    bins=bins_distance,  # mehr als neun bins können nicht mit der farbe dargestellt werden\n",
    "    columns=['DOLocationID', 'trip_distance_average'],\n",
    "    key_on=\"feature.properties.location_id\",\n",
    "    fill_color=\"YlGnBu\",  # YlGn YlGnBu\n",
    "    fill_opacity=0.7,\n",
    "    line_opacity=0.2,\n",
    "    legend_name=\"Länge der Fahrt\",\n",
    "    nan_fill_color=\"White\",\n",
    "    highlight=True\n",
    ").geojson.add_to(fg_distance)\n",
    "\n",
    "for borough in colormap_pickups.data.get('features'):\n",
    "    borough_id = borough.get('properties').get('location_id')\n",
    "    try:\n",
    "        avg_trip_distance = int(true_data.loc[int(borough_id)]['trip_distance_average'])\n",
    "        borough.get('properties')['trip_distance_average'] = f\"{avg_trip_distance:,} Meilen\"\n",
    "    except ValueError:\n",
    "        borough.get('properties')['trip_distance_average'] = None\n",
    "    except KeyError:\n",
    "        borough.get('properties')['trip_distance_average'] = None\n",
    "\n",
    "folium.GeoJsonTooltip([\"zone\", \"borough\", \"trip_distance_average\"],\n",
    "                      aliases=[\"Zone\", \"Borough\", \"Länge der Fahrten\"]).add_to(\n",
    "    colormap_distance)"
   ],
   "metadata": {
    "collapsed": false,
    "pycharm": {
     "name": "#%%\n"
    }
   }
  },
  {
   "cell_type": "code",
   "execution_count": 13,
   "outputs": [
    {
     "data": {
      "text/plain": "<folium.map.LayerControl at 0x209e5eedc48>"
     },
     "execution_count": 13,
     "metadata": {},
     "output_type": "execute_result"
    }
   ],
   "source": [
    "folium.TileLayer('cartodbpositron', overlay=True, name=\"View in Light Mode\").add_to(m)\n",
    "folium.LayerControl().add_to(m)"
   ],
   "metadata": {
    "collapsed": false,
    "pycharm": {
     "name": "#%%\n"
    }
   }
  },
  {
   "cell_type": "code",
   "execution_count": null,
   "outputs": [],
   "source": [
    "m"
   ],
   "metadata": {
    "collapsed": false,
    "pycharm": {
     "name": "#%%\n"
    }
   }
  },
  {
   "cell_type": "code",
   "execution_count": 15,
   "outputs": [],
   "source": [
    "m.save(\"../visuals/choropleth/choropleth-dropoff.html\")"
   ],
   "metadata": {
    "collapsed": false,
    "pycharm": {
     "name": "#%%\n"
    }
   }
  }
 ],
 "metadata": {
  "kernelspec": {
   "display_name": "Python 3",
   "language": "python",
   "name": "python3"
  },
  "language_info": {
   "codemirror_mode": {
    "name": "ipython",
    "version": 2
   },
   "file_extension": ".py",
   "mimetype": "text/x-python",
   "name": "python",
   "nbconvert_exporter": "python",
   "pygments_lexer": "ipython2",
   "version": "2.7.6"
  }
 },
 "nbformat": 4,
 "nbformat_minor": 0
}