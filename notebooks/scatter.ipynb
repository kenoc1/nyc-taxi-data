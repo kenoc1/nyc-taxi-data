{
 "cells": [
  {
   "cell_type": "markdown",
   "metadata": {
    "pycharm": {
     "name": "#%% md\n"
    }
   },
   "source": [
    "## Einleitung\n",
    "Erste Schritte zum Einfinden in die Datenanalyse. Innerhalb dieses Pakets werden verschiedene Scatter sowie Boxplots visualisiert."
   ]
  },
  {
   "cell_type": "markdown",
   "metadata": {
    "pycharm": {
     "name": "#%% md\n"
    }
   },
   "source": [
    "### Laden der Daten \n",
    "Zuerst wurden die Daten aus den CSV Dateien geladen. Die Daten wurden in einem DataFrame gespeichert.\n",
    "Das DataFrame wurde dabei begrenzt, da es zu viele Datenpunkte gibt und eine Ausführung auf dem Laptop somit mit den verwendeten Ressourcen nicht möglich ist."
   ]
  },
  {
   "cell_type": "code",
   "execution_count": 115,
   "metadata": {
    "pycharm": {
     "name": "#%%\n"
    }
   },
   "outputs": [],
   "source": [
    "import pandas as pd\n",
    "import seaborn as sns\n",
    "import numpy as np\n",
    "import matplotlib.pyplot as plt\n",
    "\n",
    "df = pd.read_csv(\"../data/cleaned/randomized_aggregated_for_one_year.csv\")"
   ]
  },
  {
   "cell_type": "markdown",
   "metadata": {
    "pycharm": {
     "name": "#%% md\n"
    }
   },
   "source": [
    "### Zusammenfassen von Zeitintervallen\n",
    "Entsprechende zusätzliche Informationen wurden aus den bestehenden Daten entnommen und zusätzliche Spalten gefüllt. Dabei wurden vor allem Zeitintervalle zusammengefasst sowie die Fahrdauer berechnet."
   ]
  },
  {
   "cell_type": "code",
   "execution_count": 116,
   "metadata": {
    "pycharm": {
     "name": "#%%\n"
    }
   },
   "outputs": [
    {
     "data": {
      "text/plain": "         VendorID tpep_pickup_datetime tpep_dropoff_datetime  passenger_count  \\\n0               1  2019-01-23 12:08:54   2019-01-23 12:36:03              1.0   \n1               2  2019-01-20 13:16:06   2019-01-20 13:40:15              1.0   \n2               1  2019-01-18 10:21:51   2019-01-18 10:26:09              1.0   \n3               1  2019-01-14 12:13:59   2019-01-14 12:29:35              1.0   \n4               2  2019-01-09 19:56:34   2019-01-09 19:58:38              1.0   \n...           ...                  ...                   ...              ...   \n2839606         2  2019-06-23 12:00:24   2019-06-23 12:08:09              2.0   \n2839607         2  2019-06-25 15:41:09   2019-06-25 16:02:51              1.0   \n2839608         2  2019-06-16 12:29:07   2019-06-16 12:49:41              2.0   \n2839609         1  2019-06-06 07:36:59   2019-06-06 07:50:49              1.0   \n2839610         1  2019-06-10 20:50:16   2019-06-10 21:01:00              NaN   \n\n         trip_distance  RatecodeID store_and_fwd_flag  PULocationID  \\\n0                 4.10         1.0                  N         246.0   \n1                15.62         1.0                  N         132.0   \n2                 0.90         1.0                  N         238.0   \n3                 1.90         1.0                  N         237.0   \n4                 0.45         1.0                  N          42.0   \n...                ...         ...                ...           ...   \n2839606           1.77         1.0                  N         234.0   \n2839607           2.52         1.0                  N         163.0   \n2839608           9.07         1.0                  N         138.0   \n2839609           2.10         1.0                  N         142.0   \n2839610            NaN         NaN                NaN          -1.0   \n\n         DOLocationID  payment_type  ...  tpep_pickup_day_numeric  \\\n0               236.0           1.0  ...                       23   \n1                80.0           1.0  ...                       20   \n2               239.0           2.0  ...                       18   \n3               164.0           1.0  ...                       14   \n4                42.0           1.0  ...                        9   \n...               ...           ...  ...                      ...   \n2839606         246.0           2.0  ...                       23   \n2839607         158.0           1.0  ...                       25   \n2839608         234.0           1.0  ...                       16   \n2839609         186.0           1.0  ...                        6   \n2839610          -1.0           NaN  ...                       10   \n\n         tpep_dropoff_day_numeric  tpep_pickup_day_name  \\\n0                              23             Wednesday   \n1                              20                Sunday   \n2                              18                Friday   \n3                              14                Monday   \n4                               9             Wednesday   \n...                           ...                   ...   \n2839606                        23                Sunday   \n2839607                        25               Tuesday   \n2839608                        16                Sunday   \n2839609                         6              Thursday   \n2839610                        10                Monday   \n\n         tpep_dropoff_day_name  tpep_pickup_day  tpep_dropoff_day  \\\n0                    Wednesday                3                 3   \n1                       Sunday                0                 0   \n2                       Friday                5                 5   \n3                       Monday                1                 1   \n4                    Wednesday                3                 3   \n...                        ...              ...               ...   \n2839606                 Sunday                0                 0   \n2839607                Tuesday                2                 2   \n2839608                 Sunday                0                 0   \n2839609               Thursday                4                 4   \n2839610                 Monday                1                 1   \n\n         tpep_pickup_hour  tpep_dropoff_hour  duration_hours  trip_duration  \n0                      12                 12        0.452500           1629  \n1                      13                 13        0.402500           1449  \n2                      10                 10        0.071667            258  \n3                      12                 12        0.260000            936  \n4                      19                 19        0.034444            124  \n...                   ...                ...             ...            ...  \n2839606                12                 12        0.129167            465  \n2839607                15                 16        0.361667           1302  \n2839608                12                 12        0.342778           1234  \n2839609                 7                  7        0.230556            830  \n2839610                20                 21        0.178889            644  \n\n[2839611 rows x 33 columns]",
      "text/html": "<div>\n<style scoped>\n    .dataframe tbody tr th:only-of-type {\n        vertical-align: middle;\n    }\n\n    .dataframe tbody tr th {\n        vertical-align: top;\n    }\n\n    .dataframe thead th {\n        text-align: right;\n    }\n</style>\n<table border=\"1\" class=\"dataframe\">\n  <thead>\n    <tr style=\"text-align: right;\">\n      <th></th>\n      <th>VendorID</th>\n      <th>tpep_pickup_datetime</th>\n      <th>tpep_dropoff_datetime</th>\n      <th>passenger_count</th>\n      <th>trip_distance</th>\n      <th>RatecodeID</th>\n      <th>store_and_fwd_flag</th>\n      <th>PULocationID</th>\n      <th>DOLocationID</th>\n      <th>payment_type</th>\n      <th>...</th>\n      <th>tpep_pickup_day_numeric</th>\n      <th>tpep_dropoff_day_numeric</th>\n      <th>tpep_pickup_day_name</th>\n      <th>tpep_dropoff_day_name</th>\n      <th>tpep_pickup_day</th>\n      <th>tpep_dropoff_day</th>\n      <th>tpep_pickup_hour</th>\n      <th>tpep_dropoff_hour</th>\n      <th>duration_hours</th>\n      <th>trip_duration</th>\n    </tr>\n  </thead>\n  <tbody>\n    <tr>\n      <th>0</th>\n      <td>1</td>\n      <td>2019-01-23 12:08:54</td>\n      <td>2019-01-23 12:36:03</td>\n      <td>1.0</td>\n      <td>4.10</td>\n      <td>1.0</td>\n      <td>N</td>\n      <td>246.0</td>\n      <td>236.0</td>\n      <td>1.0</td>\n      <td>...</td>\n      <td>23</td>\n      <td>23</td>\n      <td>Wednesday</td>\n      <td>Wednesday</td>\n      <td>3</td>\n      <td>3</td>\n      <td>12</td>\n      <td>12</td>\n      <td>0.452500</td>\n      <td>1629</td>\n    </tr>\n    <tr>\n      <th>1</th>\n      <td>2</td>\n      <td>2019-01-20 13:16:06</td>\n      <td>2019-01-20 13:40:15</td>\n      <td>1.0</td>\n      <td>15.62</td>\n      <td>1.0</td>\n      <td>N</td>\n      <td>132.0</td>\n      <td>80.0</td>\n      <td>1.0</td>\n      <td>...</td>\n      <td>20</td>\n      <td>20</td>\n      <td>Sunday</td>\n      <td>Sunday</td>\n      <td>0</td>\n      <td>0</td>\n      <td>13</td>\n      <td>13</td>\n      <td>0.402500</td>\n      <td>1449</td>\n    </tr>\n    <tr>\n      <th>2</th>\n      <td>1</td>\n      <td>2019-01-18 10:21:51</td>\n      <td>2019-01-18 10:26:09</td>\n      <td>1.0</td>\n      <td>0.90</td>\n      <td>1.0</td>\n      <td>N</td>\n      <td>238.0</td>\n      <td>239.0</td>\n      <td>2.0</td>\n      <td>...</td>\n      <td>18</td>\n      <td>18</td>\n      <td>Friday</td>\n      <td>Friday</td>\n      <td>5</td>\n      <td>5</td>\n      <td>10</td>\n      <td>10</td>\n      <td>0.071667</td>\n      <td>258</td>\n    </tr>\n    <tr>\n      <th>3</th>\n      <td>1</td>\n      <td>2019-01-14 12:13:59</td>\n      <td>2019-01-14 12:29:35</td>\n      <td>1.0</td>\n      <td>1.90</td>\n      <td>1.0</td>\n      <td>N</td>\n      <td>237.0</td>\n      <td>164.0</td>\n      <td>1.0</td>\n      <td>...</td>\n      <td>14</td>\n      <td>14</td>\n      <td>Monday</td>\n      <td>Monday</td>\n      <td>1</td>\n      <td>1</td>\n      <td>12</td>\n      <td>12</td>\n      <td>0.260000</td>\n      <td>936</td>\n    </tr>\n    <tr>\n      <th>4</th>\n      <td>2</td>\n      <td>2019-01-09 19:56:34</td>\n      <td>2019-01-09 19:58:38</td>\n      <td>1.0</td>\n      <td>0.45</td>\n      <td>1.0</td>\n      <td>N</td>\n      <td>42.0</td>\n      <td>42.0</td>\n      <td>1.0</td>\n      <td>...</td>\n      <td>9</td>\n      <td>9</td>\n      <td>Wednesday</td>\n      <td>Wednesday</td>\n      <td>3</td>\n      <td>3</td>\n      <td>19</td>\n      <td>19</td>\n      <td>0.034444</td>\n      <td>124</td>\n    </tr>\n    <tr>\n      <th>...</th>\n      <td>...</td>\n      <td>...</td>\n      <td>...</td>\n      <td>...</td>\n      <td>...</td>\n      <td>...</td>\n      <td>...</td>\n      <td>...</td>\n      <td>...</td>\n      <td>...</td>\n      <td>...</td>\n      <td>...</td>\n      <td>...</td>\n      <td>...</td>\n      <td>...</td>\n      <td>...</td>\n      <td>...</td>\n      <td>...</td>\n      <td>...</td>\n      <td>...</td>\n      <td>...</td>\n    </tr>\n    <tr>\n      <th>2839606</th>\n      <td>2</td>\n      <td>2019-06-23 12:00:24</td>\n      <td>2019-06-23 12:08:09</td>\n      <td>2.0</td>\n      <td>1.77</td>\n      <td>1.0</td>\n      <td>N</td>\n      <td>234.0</td>\n      <td>246.0</td>\n      <td>2.0</td>\n      <td>...</td>\n      <td>23</td>\n      <td>23</td>\n      <td>Sunday</td>\n      <td>Sunday</td>\n      <td>0</td>\n      <td>0</td>\n      <td>12</td>\n      <td>12</td>\n      <td>0.129167</td>\n      <td>465</td>\n    </tr>\n    <tr>\n      <th>2839607</th>\n      <td>2</td>\n      <td>2019-06-25 15:41:09</td>\n      <td>2019-06-25 16:02:51</td>\n      <td>1.0</td>\n      <td>2.52</td>\n      <td>1.0</td>\n      <td>N</td>\n      <td>163.0</td>\n      <td>158.0</td>\n      <td>1.0</td>\n      <td>...</td>\n      <td>25</td>\n      <td>25</td>\n      <td>Tuesday</td>\n      <td>Tuesday</td>\n      <td>2</td>\n      <td>2</td>\n      <td>15</td>\n      <td>16</td>\n      <td>0.361667</td>\n      <td>1302</td>\n    </tr>\n    <tr>\n      <th>2839608</th>\n      <td>2</td>\n      <td>2019-06-16 12:29:07</td>\n      <td>2019-06-16 12:49:41</td>\n      <td>2.0</td>\n      <td>9.07</td>\n      <td>1.0</td>\n      <td>N</td>\n      <td>138.0</td>\n      <td>234.0</td>\n      <td>1.0</td>\n      <td>...</td>\n      <td>16</td>\n      <td>16</td>\n      <td>Sunday</td>\n      <td>Sunday</td>\n      <td>0</td>\n      <td>0</td>\n      <td>12</td>\n      <td>12</td>\n      <td>0.342778</td>\n      <td>1234</td>\n    </tr>\n    <tr>\n      <th>2839609</th>\n      <td>1</td>\n      <td>2019-06-06 07:36:59</td>\n      <td>2019-06-06 07:50:49</td>\n      <td>1.0</td>\n      <td>2.10</td>\n      <td>1.0</td>\n      <td>N</td>\n      <td>142.0</td>\n      <td>186.0</td>\n      <td>1.0</td>\n      <td>...</td>\n      <td>6</td>\n      <td>6</td>\n      <td>Thursday</td>\n      <td>Thursday</td>\n      <td>4</td>\n      <td>4</td>\n      <td>7</td>\n      <td>7</td>\n      <td>0.230556</td>\n      <td>830</td>\n    </tr>\n    <tr>\n      <th>2839610</th>\n      <td>1</td>\n      <td>2019-06-10 20:50:16</td>\n      <td>2019-06-10 21:01:00</td>\n      <td>NaN</td>\n      <td>NaN</td>\n      <td>NaN</td>\n      <td>NaN</td>\n      <td>-1.0</td>\n      <td>-1.0</td>\n      <td>NaN</td>\n      <td>...</td>\n      <td>10</td>\n      <td>10</td>\n      <td>Monday</td>\n      <td>Monday</td>\n      <td>1</td>\n      <td>1</td>\n      <td>20</td>\n      <td>21</td>\n      <td>0.178889</td>\n      <td>644</td>\n    </tr>\n  </tbody>\n</table>\n<p>2839611 rows × 33 columns</p>\n</div>"
     },
     "execution_count": 116,
     "metadata": {},
     "output_type": "execute_result"
    }
   ],
   "source": [
    "# summarize time data (month/day/weekday/duration/hour)\n",
    "df['tpep_pickup_datetime'] = pd.to_datetime(df['tpep_pickup_datetime'], format = '%Y-%m-%d %H:%M:%S')\n",
    "df['tpep_dropoff_datetime'] = pd.to_datetime(df['tpep_dropoff_datetime'], format = '%Y-%m-%d %H:%M:%S')\n",
    "\n",
    "df['tpep_pickup_month'] = df['tpep_pickup_datetime'].dt.month_name()\n",
    "df['tpep_pickup_day_numeric'] = df['tpep_pickup_datetime'].dt.day\n",
    "df['tpep_dropoff_day_numeric'] = df['tpep_dropoff_datetime'].dt.day\n",
    "df['tpep_pickup_day_name'] = df['tpep_pickup_datetime'].dt.day_name()\n",
    "df['tpep_dropoff_day_name'] = df['tpep_dropoff_datetime'].dt.day_name()\n",
    "df['tpep_pickup_day'] = df['tpep_pickup_datetime'].dt.strftime(\"%w\").astype(int)\n",
    "df['tpep_dropoff_day'] = df['tpep_dropoff_datetime'].dt.strftime(\"%w\").astype(int)\n",
    "df['tpep_pickup_hour'] = df['tpep_pickup_datetime'].dt.hour\n",
    "df['tpep_dropoff_hour'] = df['tpep_dropoff_datetime'].dt.hour\n",
    "df['duration_hours'] = (df['tpep_dropoff_datetime']-df['tpep_pickup_datetime'])/np.timedelta64(1,'h')\n",
    "df['trip_duration'] = (df['tpep_dropoff_datetime'] - df['tpep_pickup_datetime']).dt.seconds\n",
    "\n",
    "df['PULocationID'].fillna(-1, inplace=True)\n",
    "df['DOLocationID'].fillna(-1, inplace=True)\n",
    "\n",
    "df"
   ]
  },
  {
   "cell_type": "markdown",
   "metadata": {
    "pycharm": {
     "name": "#%% md\n"
    }
   },
   "source": [
    "### Binninig: Zusammenfassung von Wertebereichen\n",
    "Binning ist wichtig für spätere Auswertungen, da diese besser in Visualisierung dargestellt werden können. Grund dafür ist, dass Werte in Intervalle summiert werden. "
   ]
  },
  {
   "cell_type": "code",
   "execution_count": 117,
   "metadata": {
    "pycharm": {
     "name": "#%%\n"
    }
   },
   "outputs": [],
   "source": [
    "# binning\n",
    "# Create the labels for the bin\n",
    "bin_labels_total = [ 10, 20, 30, 50, 100, 500]\n",
    "bin_labels_duration_hours = [0.05, 0.1, 0.5, 1, 5, 10]\n",
    "bin_labels_tip = [ 1,2,5, 8,10]\n",
    "\n",
    "# Define the scope of the bins\n",
    "bins_total = [0, 10, 20, 30, 50, 100, 500]\n",
    "bins_duration_hours = [0, 0.05, 0.1, 0.5, 1, 5, 10]\n",
    "bins_tip = [0, 1, 2, 5,8 ,10]\n",
    "\n",
    "# Create the \"bins\" column using the cut function using the bins and labels\n",
    "df['bins_total'] = pd.cut(df['total_amount'], bins=bins_total, labels=bin_labels_total)\n",
    "df['bins_duration_hours'] = pd.cut(df['duration_hours'], bins=bins_duration_hours, labels=bin_labels_duration_hours)\n",
    "df['bins_tip'] = pd.cut(df['tip_amount'], bins=bins_tip, labels=bin_labels_tip)"
   ]
  },
  {
   "cell_type": "markdown",
   "metadata": {
    "collapsed": false,
    "pycharm": {
     "name": "#%% md\n"
    }
   },
   "source": [
    "### Initialer Boxplot\n",
    "Darstellung eines Boxplots sowie Ausgabe von statistischen Zahlen für die Einschätzung der Daten. \n",
    "\n",
    "**Ergebnis:**\n",
    " Zonen von 1 bis 265 vorhanden. Vor allem viele Fahrten im hohen Zonen Bereich vorhanden. Insgesamt aber eine geringe Aussagekraft, da Grund für den verschobenen Boxplot eine/mehrere summierte erhöhte Werte in Zonen im hohen Bereich vorhanden sein können. Ein geografischer Bereich kann zuzüglich nicht definiert werden, da die Zonen IDs nicht dementsprechend gruppiert sind."
   ]
  },
  {
   "cell_type": "code",
   "execution_count": 118,
   "metadata": {
    "collapsed": false,
    "pycharm": {
     "name": "#%%\n"
    }
   },
   "outputs": [
    {
     "name": "stdout",
     "output_type": "stream",
     "text": [
      "count    2.839611e+06\n",
      "mean     1.633330e+02\n",
      "std      6.614003e+01\n",
      "min     -1.000000e+00\n",
      "25%      1.140000e+02\n",
      "50%      1.620000e+02\n",
      "75%      2.330000e+02\n",
      "max      2.650000e+02\n",
      "Name: PULocationID, dtype: float64\n"
     ]
    },
    {
     "data": {
      "text/plain": "<Figure size 720x504 with 1 Axes>",
      "image/png": "[encoded data removed]"
     },
     "metadata": {},
     "output_type": "display_data"
    }
   ],
   "source": [
    "# boxplot\n",
    "# Creating dataset\n",
    "fig = plt.figure(figsize =(10, 7))\n",
    "\n",
    "# Creating plot\n",
    "plt.boxplot(df['PULocationID'])\n",
    "\n",
    "# describe PUL\n",
    "print(df['PULocationID'].describe())\n",
    "\n",
    "# show plot\n",
    "plt.show()"
   ]
  },
  {
   "cell_type": "markdown",
   "source": [
    "### Abhängigkeit von Fahrtantritten je Monat im Jahr\n"
   ],
   "metadata": {
    "collapsed": false,
    "pycharm": {
     "name": "#%% md\n"
    }
   }
  },
  {
   "cell_type": "code",
   "execution_count": 119,
   "outputs": [
    {
     "data": {
      "text/plain": "<AxesSubplot:title={'center':'Dropoff Month'}, xlabel='tpep_pickup_month', ylabel='count'>"
     },
     "execution_count": 119,
     "metadata": {},
     "output_type": "execute_result"
    },
    {
     "data": {
      "text/plain": "<Figure size 1440x360 with 2 Axes>",
      "image/png": "[encoded data removed]"
     },
     "metadata": {},
     "output_type": "display_data"
    }
   ],
   "source": [
    "#trips per hour\n",
    "figure,(ax01,ax02)=plt.subplots(ncols=2,figsize=(20,5))\n",
    "ax01.set_title('Pickup Month')\n",
    "sns.countplot(x=\"tpep_pickup_month\",data=df,ax=ax01)\n",
    "ax02.set_title('Dropoff Month')\n",
    "sns.countplot(x=\"tpep_pickup_month\",data=df,ax=ax02)"
   ],
   "metadata": {
    "collapsed": false,
    "pycharm": {
     "name": "#%%\n"
    }
   }
  },
  {
   "cell_type": "markdown",
   "metadata": {
    "collapsed": false,
    "pycharm": {
     "name": "#%% md\n"
    }
   },
   "source": [
    "### Abhängigkeit von Fahrtantritten je Wochentag\n",
    "Hier wurde die neu erstellte Dimension der Wochentage genutzt. Auch wurden die Pickups und Dropoffs gegenübergestellt.\n",
    "\n",
    "**Ergebnis** Viele Fahrten am Donnerstag, wenige am Sonntag. --> Mögliche nicht bestätigte Schlussfolgerung kann sein, dass Bewohner Taxis mehr als Touristen nutzen."
   ]
  },
  {
   "cell_type": "code",
   "execution_count": null,
   "metadata": {
    "collapsed": false,
    "pycharm": {
     "name": "#%%\n",
     "is_executing": true
    }
   },
   "outputs": [],
   "source": [
    "# trips per weekday\n",
    "figure,(ax1,ax2)=plt.subplots(ncols=2,figsize=(20,5))\n",
    "ax1.set_title('Pickup Days')\n",
    "sns.countplot(x=\"tpep_pickup_day_name\",data=df,ax=ax1)\n",
    "\n",
    "ax2.set_title('Dropoff Days')\n",
    "sns.countplot(x=\"tpep_dropoff_day_name\",data=df,ax=ax2)"
   ]
  },
  {
   "cell_type": "markdown",
   "metadata": {
    "collapsed": false,
    "pycharm": {
     "name": "#%% md\n"
    }
   },
   "source": [
    "### Abhängigkeit von Fahrtantritten je Tageszeit im Stundenintervall\n",
    "Die Stunden eines Tages wurden viusalisiert. Es  wurde keine Unterscheidung zwischen Wochentag und Wochenende getroffen\n",
    "\n",
    "**Ergebnis**: Zwischen 6 Uhr und 22 Uhr sind besonders viele Fahrt zu verzeichnen. In der anderen Zeit schlafen wahrscheinlich die Bewohner/Touristen von NYC."
   ]
  },
  {
   "cell_type": "code",
   "execution_count": null,
   "metadata": {
    "collapsed": false,
    "pycharm": {
     "name": "#%%\n",
     "is_executing": true
    }
   },
   "outputs": [],
   "source": [
    "#trips per hour\n",
    "figure,(ax5,ax6)=plt.subplots(ncols=2,figsize=(20,5))\n",
    "ax5.set_title('Pickup Days')\n",
    "sns.countplot(x=\"tpep_pickup_hour\",data=df,ax=ax5)\n",
    "ax6.set_title('Dropoff Days')\n",
    "sns.countplot(x=\"tpep_dropoff_hour\",data=df,ax=ax6)"
   ]
  },
  {
   "cell_type": "markdown",
   "metadata": {
    "collapsed": false,
    "pycharm": {
     "name": "#%% md\n"
    }
   },
   "source": [
    "### Abhängigkeit von Fahrzeit und Anzahl der Passagiere\n",
    "Nachfolgend wird eine mögliche Korrelation zwischen der Anzahl von Passagieren und der Dauer der Fahrt untersucht.\n",
    " \n",
    "**Ergebnis**: Viele Kurzstrecken wurden durchgeführt. Darunter auch viele Fahrten mit nur einer Person. Einbruch bei 4 Passagieren ist durch den Einsatz eines Großraumtaxis ab dieser Personenanzahl  zu erklären. Im Wertebereich von 1,8 bis 6 Stunden wurden fast keine Fahrten durchgeführt. Einzelne Ausreißer sind vorhanden."
   ]
  },
  {
   "cell_type": "code",
   "execution_count": null,
   "metadata": {
    "collapsed": false,
    "pycharm": {
     "name": "#%%\n",
     "is_executing": true
    }
   },
   "outputs": [],
   "source": [
    "#duration/passenger_count\n",
    "sns.catplot(y=\"duration_hours\",x=\"passenger_count\",data=df,kind=\"strip\")"
   ]
  },
  {
   "cell_type": "markdown",
   "metadata": {
    "collapsed": false,
    "pycharm": {
     "name": "#%% md\n"
    }
   },
   "source": [
    "### Abhängigkeit von Gesamtpreis und Monatstag\n",
    "**Ergebnis**: Sehr viele Fahrten mit einem Gesamtpreis der Fahrt bis 100 Dollar. Darüber hinaus gibt es nur Ausreißer. Es werden somit viele Fahrten für bis zu 100 Dollar durchgeführt. Die Fahrten darüber hinaus werden eher selten durchgeführt. In Bezug auf den Standort NYC ist dieses als realistisch einzuordnen.  "
   ]
  },
  {
   "cell_type": "code",
   "execution_count": null,
   "metadata": {
    "collapsed": false,
    "pycharm": {
     "name": "#%%\n",
     "is_executing": true
    }
   },
   "outputs": [],
   "source": [
    "# days/total\n",
    "sns.lmplot(data=df, x=\"tpep_pickup_day_numeric\", y=\"total_amount\")"
   ]
  },
  {
   "cell_type": "markdown",
   "metadata": {
    "collapsed": false,
    "pycharm": {
     "name": "#%% md\n"
    }
   },
   "source": [
    "### Abhängigkeit zwischen Wochentag/Dauer/Trinkgeld/Gesamtkosten\n",
    "Nachfolgend soll eine Korrelation zwischen Wochentag/Dauer/Trinkgeld/Gesamtkosten untersucht werden. Als Visualiserung wurde zuerst ein Scatter Chart verwendet um die verschiedenen Dimensionen darzustellen.\n",
    "\n",
    "**Ergebnis**: Unübersichtliche Darstellung und Dauer nicht richtig dargestellt. --> Einführung von Bins sinnvoll. (Siehe nächstes Chart)"
   ]
  },
  {
   "cell_type": "code",
   "execution_count": null,
   "metadata": {
    "collapsed": false,
    "pycharm": {
     "name": "#%%\n",
     "is_executing": true
    }
   },
   "outputs": [],
   "source": [
    "# total/tip/duration\n",
    "sns.relplot(x=\"total_amount\", y=\"tip_amount\", size=\"duration_hours\", hue=\"tpep_pickup_day_name\",\n",
    "            alpha=0.99,\n",
    "            palette=\"muted\",\n",
    "            height=8,\n",
    "            data=df)"
   ]
  },
  {
   "cell_type": "markdown",
   "metadata": {
    "collapsed": false,
    "pycharm": {
     "name": "#%% md\n"
    }
   },
   "source": [
    "**Ergebnis**: Die Dimension der Dauer konnte erfolgreich abgebildet werden. Trotzdem ist die Darstellung unübersichtlich. Kein brauchbarer Informationsgehalt. --> Einführung von Gruppen zusätzlich zu dem Binning (siehe nächstes Chart)"
   ]
  },
  {
   "cell_type": "code",
   "execution_count": null,
   "metadata": {
    "collapsed": false,
    "pycharm": {
     "name": "#%%\n",
     "is_executing": true
    }
   },
   "outputs": [],
   "source": [
    "# total/tip/bin_duration\n",
    "sns.relplot(x=\"total_amount\", y=\"tip_amount\", size=\"bins_duration_hours\", hue=\"tpep_pickup_day\",  sizes=(5,400),          alpha=0.5,  palette=\"muted\",height=8,data=df)"
   ]
  },
  {
   "cell_type": "markdown",
   "metadata": {
    "collapsed": false,
    "pycharm": {
     "name": "#%% md\n"
    }
   },
   "source": [
    "Es wurde nach Wochentag gruppiert. Es wurde der Durchschnitt verwendet.\n",
    "\n",
    "**Ergebnis**: Durchschnittlicher Betrag der Gesamtkosten betragen zwischen 14,3 Dollar und 15,9 Dollar. Die durchschnittliche Dauer beträgt zwischen 10,4 und 10,9 Minuten. Das durchschnittliche Trinkgeld beläuft sich auf 1,6 Dollar bis 1,9 Dollar. Es ist somit eine realtiv geringe Abweichung zwischen den einzelnen Wochentagen vorhanden.\n",
    "Herauszustellen ist dabei aber, dass am Donnerstag (Tag 4) eine besonders hoher durchschnittlicher Gesamtpreis sowie Trinkgeld zu verzeichenen ist. Am Wochende werden relativ kostengünstige Fahrten durchgeführt. Auch ist hier das Trinkgeld geringer. Es ist zudem ein korrelierender Zusammenhang zwischen Gesamtpreis und Trinkgeld zu verzeichnen."
   ]
  },
  {
   "cell_type": "code",
   "execution_count": null,
   "metadata": {
    "collapsed": false,
    "pycharm": {
     "name": "#%%\n",
     "is_executing": true
    }
   },
   "outputs": [],
   "source": [
    "# total/tip/bin_duration (mean)\n",
    "df_week_days = df.groupby([\"tpep_pickup_day\"]).mean()\n",
    "\n",
    "sns.relplot(x=\"total_amount\", y=\"tip_amount\", size=\"duration_hours\", hue=\"tpep_pickup_day\",  sizes=(100,1000),          alpha=0.5,  palette=\"muted\",height=8,data=df_week_days)"
   ]
  }
 ],
 "metadata": {
  "kernelspec": {
   "display_name": "Python 3 (ipykernel)",
   "language": "python",
   "name": "python3"
  },
  "language_info": {
   "codemirror_mode": {
    "name": "ipython",
    "version": 3
   },
   "file_extension": ".py",
   "mimetype": "text/x-python",
   "name": "python",
   "nbconvert_exporter": "python",
   "pygments_lexer": "ipython3",
   "version": "3.9.1"
  },
  "vscode": {
   "interpreter": {
    "hash": "397704579725e15f5c7cb49fe5f0341eb7531c82d19f2c29d197e8b64ab5776b"
   }
  }
 },
 "nbformat": 4,
 "nbformat_minor": 1
}